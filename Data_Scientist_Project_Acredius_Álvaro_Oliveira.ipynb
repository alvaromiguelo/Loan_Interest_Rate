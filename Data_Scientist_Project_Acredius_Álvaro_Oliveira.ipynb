{
 "cells": [
  {
   "cell_type": "markdown",
   "id": "5128f672-cffa-4ab4-8f9b-3b4f24fe4ca6",
   "metadata": {
    "tags": []
   },
   "source": [
    "# Project Acredius Data Scientist DataSet - Step by Step Application"
   ]
  },
  {
   "cell_type": "markdown",
   "id": "ee9596e4-350c-4782-85b7-55591c0eda8e",
   "metadata": {},
   "source": [
    "The aim of this project is the prediction through regression methods of the interest loan rate of customers who are approved to get a loan. We are in the presence of Supervised Learning problem.\n",
    "\n",
    "It was supplied a raw dataset with some data from several clients, besides the features it was incorporated a target variable, Taux, that we will use to validate our model.\n",
    "\n",
    "This is a step by step guide of a this Project."
   ]
  },
  {
   "cell_type": "markdown",
   "id": "273c8207-dfe7-4b7d-9376-b7e3cb008a6a",
   "metadata": {},
   "source": [
    "This Project is divided in 4 different Chapters,\n",
    "\n",
    "- **Chapter 1.** Identification & Study of the dataset.\n",
    "- **Chapter 2.** EDA - Outliers, NaN & Characteristics.\n",
    "- **Chapter 3.** Modelling\n",
    "- **Chapter 4.** Conclusions"
   ]
  },
  {
   "cell_type": "markdown",
   "id": "f082d181-5e99-456d-ac0e-c40491674928",
   "metadata": {
    "jp-MarkdownHeadingCollapsed": true,
    "tags": []
   },
   "source": [
    "## Chapter 1. Identification & Study of the Dataset"
   ]
  },
  {
   "cell_type": "markdown",
   "id": "7b4c3690-ffb0-4004-af75-2cf1b9f2b0fb",
   "metadata": {},
   "source": [
    "#### Import libraries"
   ]
  },
  {
   "cell_type": "code",
   "execution_count": 1,
   "id": "540ec1f2-7c59-4c23-9358-7651b1062322",
   "metadata": {
    "tags": []
   },
   "outputs": [],
   "source": [
    "import pandas as pd\n",
    "import numpy as np\n",
    "import matplotlib.pyplot as plt\n",
    "import seaborn as sns"
   ]
  },
  {
   "cell_type": "markdown",
   "id": "c609fba0-a848-4dc0-a49a-ca8c1806548b",
   "metadata": {},
   "source": [
    "#### Import DataSet"
   ]
  },
  {
   "cell_type": "code",
   "execution_count": 2,
   "id": "1f107a9d-d3fd-4a5b-8963-417dc8ebad07",
   "metadata": {
    "tags": []
   },
   "outputs": [
    {
     "data": {
      "text/html": [
       "<div>\n",
       "<style scoped>\n",
       "    .dataframe tbody tr th:only-of-type {\n",
       "        vertical-align: middle;\n",
       "    }\n",
       "\n",
       "    .dataframe tbody tr th {\n",
       "        vertical-align: top;\n",
       "    }\n",
       "\n",
       "    .dataframe thead th {\n",
       "        text-align: right;\n",
       "    }\n",
       "</style>\n",
       "<table border=\"1\" class=\"dataframe\">\n",
       "  <thead>\n",
       "    <tr style=\"text-align: right;\">\n",
       "      <th></th>\n",
       "      <th>ID</th>\n",
       "      <th>Pays</th>\n",
       "      <th>Taux</th>\n",
       "      <th>Mois</th>\n",
       "      <th>Montant</th>\n",
       "      <th>Niveau de risque</th>\n",
       "      <th>Emprunteur</th>\n",
       "      <th>capital social</th>\n",
       "      <th>année de création</th>\n",
       "      <th>Antériorité</th>\n",
       "      <th>...</th>\n",
       "      <th>Dettes Nettes / EBE(* années) 17</th>\n",
       "      <th>Dettes Nettes / EBE(* années) 18</th>\n",
       "      <th>Dettes Nettes / Fonds propres 15</th>\n",
       "      <th>Dettes Nettes / Fonds propres 16</th>\n",
       "      <th>Dettes Nettes / Fonds propres 17</th>\n",
       "      <th>Dettes Nettes / Fonds propres 18</th>\n",
       "      <th>BFRE en nombre de jours de CA 15</th>\n",
       "      <th>BFRE en nombre de jours de CA 16</th>\n",
       "      <th>BFRE en nombre de jours de CA 17</th>\n",
       "      <th>BFRE en nombre de jours de CA 18</th>\n",
       "    </tr>\n",
       "  </thead>\n",
       "  <tbody>\n",
       "    <tr>\n",
       "      <th>0</th>\n",
       "      <td>755334684</td>\n",
       "      <td>France</td>\n",
       "      <td>5,85 %</td>\n",
       "      <td>48</td>\n",
       "      <td>1 100 000 €</td>\n",
       "      <td>B</td>\n",
       "      <td>Ets Provost Frères</td>\n",
       "      <td>3 058 500 €</td>\n",
       "      <td>1962</td>\n",
       "      <td>1991</td>\n",
       "      <td>...</td>\n",
       "      <td>9,18*</td>\n",
       "      <td>4,26*</td>\n",
       "      <td>NaN</td>\n",
       "      <td>125,88%</td>\n",
       "      <td>97,66%</td>\n",
       "      <td>66,94%</td>\n",
       "      <td>NaN</td>\n",
       "      <td>367</td>\n",
       "      <td>252</td>\n",
       "      <td>200.0</td>\n",
       "    </tr>\n",
       "    <tr>\n",
       "      <th>1</th>\n",
       "      <td>666598628</td>\n",
       "      <td>Espagne</td>\n",
       "      <td>5,50 %</td>\n",
       "      <td>48</td>\n",
       "      <td>310 000 €</td>\n",
       "      <td>B+</td>\n",
       "      <td>INTERNATIONAL STUDIES SA</td>\n",
       "      <td>396 072 €</td>\n",
       "      <td>1985</td>\n",
       "      <td>1998</td>\n",
       "      <td>...</td>\n",
       "      <td>0,32 *</td>\n",
       "      <td>0,11 *</td>\n",
       "      <td>NaN</td>\n",
       "      <td>21,51%</td>\n",
       "      <td>19,20%</td>\n",
       "      <td>8,46%</td>\n",
       "      <td>NaN</td>\n",
       "      <td>NaN</td>\n",
       "      <td>NaN</td>\n",
       "      <td>NaN</td>\n",
       "    </tr>\n",
       "    <tr>\n",
       "      <th>2</th>\n",
       "      <td>528199436</td>\n",
       "      <td>Pays-Bas</td>\n",
       "      <td>6,45 %</td>\n",
       "      <td>48</td>\n",
       "      <td>165 000 €</td>\n",
       "      <td>B</td>\n",
       "      <td>Docufiller Sales</td>\n",
       "      <td>900</td>\n",
       "      <td>2016</td>\n",
       "      <td>2016</td>\n",
       "      <td>...</td>\n",
       "      <td>-0,01*</td>\n",
       "      <td>0,47*</td>\n",
       "      <td>NaN</td>\n",
       "      <td>2870,00%</td>\n",
       "      <td>-7,69%</td>\n",
       "      <td>135,48%</td>\n",
       "      <td>NaN</td>\n",
       "      <td>102</td>\n",
       "      <td>-19</td>\n",
       "      <td>71.0</td>\n",
       "    </tr>\n",
       "    <tr>\n",
       "      <th>3</th>\n",
       "      <td>353279184</td>\n",
       "      <td>France</td>\n",
       "      <td>0.06</td>\n",
       "      <td>60</td>\n",
       "      <td>2 000 000 €</td>\n",
       "      <td>B</td>\n",
       "      <td>E.B.P.</td>\n",
       "      <td>10 000 €</td>\n",
       "      <td>2016</td>\n",
       "      <td>2014</td>\n",
       "      <td>...</td>\n",
       "      <td>3,34*</td>\n",
       "      <td>2,99*</td>\n",
       "      <td>NaN</td>\n",
       "      <td>NaN</td>\n",
       "      <td>157,76%</td>\n",
       "      <td>156,74%</td>\n",
       "      <td>NaN</td>\n",
       "      <td>NaN</td>\n",
       "      <td>45</td>\n",
       "      <td>35.0</td>\n",
       "    </tr>\n",
       "    <tr>\n",
       "      <th>4</th>\n",
       "      <td>633690177</td>\n",
       "      <td>Italie</td>\n",
       "      <td>4,90 %</td>\n",
       "      <td>36</td>\n",
       "      <td>100 000 €</td>\n",
       "      <td>B+</td>\n",
       "      <td>Deltagamma</td>\n",
       "      <td>10 000 €</td>\n",
       "      <td>2003</td>\n",
       "      <td>2003</td>\n",
       "      <td>...</td>\n",
       "      <td>2,38 *</td>\n",
       "      <td>0,30 *</td>\n",
       "      <td>NaN</td>\n",
       "      <td>-0,22</td>\n",
       "      <td>0,23</td>\n",
       "      <td>0,12</td>\n",
       "      <td>NaN</td>\n",
       "      <td>NaN</td>\n",
       "      <td>NaN</td>\n",
       "      <td>NaN</td>\n",
       "    </tr>\n",
       "  </tbody>\n",
       "</table>\n",
       "<p>5 rows × 87 columns</p>\n",
       "</div>"
      ],
      "text/plain": [
       "          ID      Pays     Taux  Mois       Montant Niveau de risque  \\\n",
       "0  755334684    France   5,85 %    48   1 100 000 €                B   \n",
       "1  666598628   Espagne  5,50 %     48     310 000 €               B+   \n",
       "2  528199436  Pays-Bas   6,45 %    48     165 000 €                B   \n",
       "3  353279184    France     0.06    60   2 000 000 €                B   \n",
       "4  633690177    Italie   4,90 %    36     100 000 €               B+   \n",
       "\n",
       "                 Emprunteur capital social  année de création Antériorité  \\\n",
       "0        Ets Provost Frères    3 058 500 €               1962        1991   \n",
       "1  INTERNATIONAL STUDIES SA      396 072 €               1985        1998   \n",
       "2          Docufiller Sales            900               2016        2016   \n",
       "3                    E.B.P.       10 000 €               2016        2014   \n",
       "4                Deltagamma       10 000 €               2003        2003   \n",
       "\n",
       "   ... Dettes Nettes / EBE(* années) 17 Dettes Nettes / EBE(* années) 18  \\\n",
       "0  ...                            9,18*                            4,26*   \n",
       "1  ...                           0,32 *                           0,11 *   \n",
       "2  ...                           -0,01*                            0,47*   \n",
       "3  ...                            3,34*                            2,99*   \n",
       "4  ...                           2,38 *                           0,30 *   \n",
       "\n",
       "  Dettes Nettes / Fonds propres 15 Dettes Nettes / Fonds propres 16  \\\n",
       "0                              NaN                          125,88%   \n",
       "1                              NaN                           21,51%   \n",
       "2                              NaN                         2870,00%   \n",
       "3                              NaN                              NaN   \n",
       "4                              NaN                            -0,22   \n",
       "\n",
       "  Dettes Nettes / Fonds propres 17 Dettes Nettes / Fonds propres 18  \\\n",
       "0                           97,66%                           66,94%   \n",
       "1                           19,20%                            8,46%   \n",
       "2                           -7,69%                          135,48%   \n",
       "3                          157,76%                          156,74%   \n",
       "4                             0,23                             0,12   \n",
       "\n",
       "  BFRE en nombre de jours de CA 15 BFRE en nombre de jours de CA 16  \\\n",
       "0                              NaN                              367   \n",
       "1                              NaN                              NaN   \n",
       "2                              NaN                              102   \n",
       "3                              NaN                              NaN   \n",
       "4                              NaN                              NaN   \n",
       "\n",
       "  BFRE en nombre de jours de CA 17 BFRE en nombre de jours de CA 18  \n",
       "0                              252                            200.0  \n",
       "1                              NaN                              NaN  \n",
       "2                              -19                             71.0  \n",
       "3                               45                             35.0  \n",
       "4                              NaN                              NaN  \n",
       "\n",
       "[5 rows x 87 columns]"
      ]
     },
     "execution_count": 2,
     "metadata": {},
     "output_type": "execute_result"
    }
   ],
   "source": [
    "df = pd.read_excel('Acredius_-_Data_Scientist_-_Case_study_data_2022_12.xlsx')\n",
    "df.head()"
   ]
  },
  {
   "cell_type": "markdown",
   "id": "c3f7826b-6157-4a72-85d8-d12a26d6d66c",
   "metadata": {
    "jp-MarkdownHeadingCollapsed": true,
    "tags": []
   },
   "source": [
    "### 1.1 DataSet - Identification & Study"
   ]
  },
  {
   "cell_type": "markdown",
   "id": "7553953f-40b2-4d96-9a43-8b8155676e8b",
   "metadata": {},
   "source": [
    "This subchapter will guide the rest of our project namely the steps to prepare our dataset to be feeded to a model that will be define later."
   ]
  },
  {
   "cell_type": "code",
   "execution_count": 3,
   "id": "d886d1e8-641c-4496-bcce-58de4afc91ef",
   "metadata": {},
   "outputs": [
    {
     "data": {
      "text/plain": [
       "(688, 87)"
      ]
     },
     "execution_count": 3,
     "metadata": {},
     "output_type": "execute_result"
    }
   ],
   "source": [
    "df.shape"
   ]
  },
  {
   "cell_type": "markdown",
   "id": "bb2b9d2e-ffb4-4429-96f3-128dfcd71593",
   "metadata": {},
   "source": [
    "We are in the presence of a small dataset with a clear unbalanced between number of data entries and features. Feeding a dataset with this shape will result in non generalize model with a probable overfitting.\n",
    "\n",
    "So, before we fit any model, the number of features must be drastically reduced."
   ]
  },
  {
   "cell_type": "code",
   "execution_count": 4,
   "id": "3a93f41b-cccd-4ace-bc1e-c8eb41f2423f",
   "metadata": {
    "tags": []
   },
   "outputs": [
    {
     "name": "stdout",
     "output_type": "stream",
     "text": [
      "<class 'pandas.core.frame.DataFrame'>\n",
      "RangeIndex: 688 entries, 0 to 687\n",
      "Data columns (total 87 columns):\n",
      " #   Column                                  Non-Null Count  Dtype  \n",
      "---  ------                                  --------------  -----  \n",
      " 0   ID                                      688 non-null    int64  \n",
      " 1   Pays                                    688 non-null    object \n",
      " 2   Taux                                    688 non-null    object \n",
      " 3   Mois                                    688 non-null    int64  \n",
      " 4   Montant                                 688 non-null    object \n",
      " 5   Niveau de risque                        688 non-null    object \n",
      " 6   Emprunteur                              688 non-null    object \n",
      " 7   capital social                          688 non-null    object \n",
      " 8   année de création                       688 non-null    int64  \n",
      " 9   Antériorité                             688 non-null    object \n",
      " 10  effectifs                               687 non-null    object \n",
      " 11  Nombre de mois de la période 15         300 non-null    object \n",
      " 12  Nombre de mois de la période 16         423 non-null    object \n",
      " 13  Nombre de mois de la période 17         351 non-null    object \n",
      " 14  Nombre de mois de la période 18         168 non-null    object \n",
      " 15  Chiffre d'Affaires 15                   374 non-null    object \n",
      " 16  Chiffre d'Affaires 16                   491 non-null    object \n",
      " 17  Chiffre d'Affaires 17                   312 non-null    object \n",
      " 18  Chiffre d'Affaires 18                   125 non-null    object \n",
      " 19  Evolution du Chiffre d'Affaires 15      227 non-null    object \n",
      " 20  Evolution du Chiffre d'Affaires 16      377 non-null    object \n",
      " 21  Evolution du Chiffre d'Affaires 17      292 non-null    object \n",
      " 22  Evolution du Chiffre d'Affaires 18      125 non-null    object \n",
      " 23  EBE(retraité des loyers de leasing) 15  370 non-null    object \n",
      " 24  EBE(retraité des loyers de leasing) 16  484 non-null    object \n",
      " 25  EBE(retraité des loyers de leasing) 17  311 non-null    object \n",
      " 26  EBE(retraité des loyers de leasing) 18  127 non-null    object \n",
      " 27  Marge d'EBE 15                          183 non-null    object \n",
      " 28  Marge d'EBE 16                          232 non-null    object \n",
      " 29  Marge d'EBE 17                          121 non-null    object \n",
      " 30  Marge d'EBE 18                          49 non-null     object \n",
      " 31  Resultat Net 15                         369 non-null    object \n",
      " 32  Resultat Net 16                         487 non-null    object \n",
      " 33  Resultat Net 17                         308 non-null    object \n",
      " 34  Resultat Net 18                         123 non-null    object \n",
      " 35  Total Bilan 15                          372 non-null    object \n",
      " 36  Total Bilan 16                          487 non-null    object \n",
      " 37  Total Bilan 17                          311 non-null    object \n",
      " 38  Total Bilan 18                          127 non-null    object \n",
      " 39  BFRE 15                                 182 non-null    object \n",
      " 40  BFRE 16                                 218 non-null    object \n",
      " 41  BFRE 17                                 107 non-null    object \n",
      " 42  BFRE 18                                 35 non-null     object \n",
      " 43  Capacité de remboursement (FCCR) 15     370 non-null    object \n",
      " 44  Capacité de remboursement (FCCR) 16     483 non-null    object \n",
      " 45  Capacité de remboursement (FCCR) 17     311 non-null    object \n",
      " 46  Capacité de remboursement (FCCR) 18     126 non-null    object \n",
      " 47  Fonds Propres 15                        372 non-null    object \n",
      " 48  Fonds Propres 16                        487 non-null    object \n",
      " 49  Fonds Propres 17                        310 non-null    object \n",
      " 50  Fonds Propres 18                        125 non-null    object \n",
      " 51  Fonds Propres / Total Bilan 15          367 non-null    object \n",
      " 52  Fonds Propres / Total Bilan 16          482 non-null    object \n",
      " 53  Fonds Propres / Total Bilan 17          309 non-null    object \n",
      " 54  Fonds Propres / Total Bilan 18          125 non-null    object \n",
      " 55  Passif circulant 15                     183 non-null    object \n",
      " 56  Passif circulant 16                     231 non-null    object \n",
      " 57  Passif circulant 17                     121 non-null    object \n",
      " 58  Passif circulant 18                     49 non-null     object \n",
      " 59  Actif immobilisé 15                     184 non-null    object \n",
      " 60  Actif immobilisé 16                     231 non-null    object \n",
      " 61  Actif immobilisé 17                     120 non-null    object \n",
      " 62  Actif immobilisé 18                     48 non-null     object \n",
      " 63  Actif circulant 15                      183 non-null    object \n",
      " 64  Actif circulant 16                      231 non-null    object \n",
      " 65  Actif circulant 17                      120 non-null    object \n",
      " 66  Actif circulant 18                      48 non-null     object \n",
      " 67  Dettes court terme 15                   182 non-null    object \n",
      " 68  Dettes court terme 16                   226 non-null    object \n",
      " 69  Dettes court terme 17                   118 non-null    object \n",
      " 70  Dettes court terme 18                   48 non-null     object \n",
      " 71  Dettes Moyen long terme 15              181 non-null    object \n",
      " 72  Dettes Moyen long terme 16              228 non-null    object \n",
      " 73  Dettes Moyen long terme 17              117 non-null    object \n",
      " 74  Dettes Moyen long terme 18              47 non-null     object \n",
      " 75  Dettes Nettes / EBE(* années) 15        371 non-null    object \n",
      " 76  Dettes Nettes / EBE(* années) 16        482 non-null    object \n",
      " 77  Dettes Nettes / EBE(* années) 17        308 non-null    object \n",
      " 78  Dettes Nettes / EBE(* années) 18        124 non-null    object \n",
      " 79  Dettes Nettes / Fonds propres 15        368 non-null    object \n",
      " 80  Dettes Nettes / Fonds propres 16        484 non-null    object \n",
      " 81  Dettes Nettes / Fonds propres 17        311 non-null    object \n",
      " 82  Dettes Nettes / Fonds propres 18        126 non-null    object \n",
      " 83  BFRE en nombre de jours de CA 15        186 non-null    object \n",
      " 84  BFRE en nombre de jours de CA 16        248 non-null    object \n",
      " 85  BFRE en nombre de jours de CA 17        188 non-null    object \n",
      " 86  BFRE en nombre de jours de CA 18        75 non-null     float64\n",
      "dtypes: float64(1), int64(3), object(83)\n",
      "memory usage: 467.8+ KB\n"
     ]
    }
   ],
   "source": [
    "df.info()"
   ]
  },
  {
   "cell_type": "markdown",
   "id": "79ba2d23-2ccf-424a-9651-7365fd047385",
   "metadata": {},
   "source": [
    "Our dataset has a mix of categorical and numeric variables. Categorical variables have to be treated (transformed to numeric). If we look to the cell below (is an example, this happens in various number of features), we see that our target varible is an Object because we have a mix of string and numeric entries.\n",
    "\n",
    "So, we must threat all of our dataset before we try to make any conclusions of it."
   ]
  },
  {
   "cell_type": "code",
   "execution_count": 5,
   "id": "0bbfca93-df07-4d6f-96d9-07276a5b6da4",
   "metadata": {
    "tags": []
   },
   "outputs": [
    {
     "data": {
      "text/plain": [
       "array(['5,85 %', '5,50 % ', '6,45 %', 0.06, '4,90 %', '6,75 %', '5,95 %',\n",
       "       '6,90 %', '7,10 %', '5,50 %', '4,25 %', '4,60 %', '4,70 %',\n",
       "       '5,80 %', '5,75 %', '6,20 %', '4,85 %', '6,70 %', '6,05 %',\n",
       "       '6,50 %', '5,05 %', '5,25 %', '5,60 %', '6,30 %', '4,65 %',\n",
       "       '7,25 %', 0.05, '4,95 %', '5,90 %', '7,50 %', '6,40 %', '4,80 %',\n",
       "       '4,50 %', '6,25 %', '2,50 %', '5,10 %', '6,60 %', '3,60 %',\n",
       "       '5,40 %', '7,40 %', '6,10 %', '4,35 %', '5,20 %', '5,65 %',\n",
       "       '6,80 %', '5,70 %', '4,75 %', '5,60 % ', '6,50 % ', '5,15 % ',\n",
       "       '6,55 %', 0.09, '3,50 % ', '6,75 % ', '4,50 % ', '6,20 % ',\n",
       "       '5,35 %', '3,90 %', '6,95 %', '7,05 %', '4,15 %', '7,15 %',\n",
       "       '7,70 %', '3,25 %', 0.07, '7,20 %', '9,90 %', '5,45 %', '7,75 %',\n",
       "       '6,65 %', '8,20 %', '7,55 %', '5,30 %', '4,20 %', '4,10 %',\n",
       "       '3,40 %', '6,35 %', '3,10 %', '4,45 %', '3,45 %', '8,70 %', 0.04,\n",
       "       '3,50 %', 0.08, '3,75 %', '8,50 %', '8,80 %', '8,75 %', '8,25 %',\n",
       "       '6,99 %', '6,15 %', '8,10 %', '5,15 %', '9,50 %'], dtype=object)"
      ]
     },
     "execution_count": 5,
     "metadata": {},
     "output_type": "execute_result"
    }
   ],
   "source": [
    "df['Taux'].unique()"
   ]
  },
  {
   "cell_type": "code",
   "execution_count": 6,
   "id": "94264794-866a-4688-8e76-ba0151a90ec7",
   "metadata": {
    "tags": []
   },
   "outputs": [
    {
     "data": {
      "text/plain": [
       "ID                                    0\n",
       "Pays                                  0\n",
       "Taux                                  0\n",
       "Mois                                  0\n",
       "Montant                               0\n",
       "                                   ... \n",
       "Dettes Nettes / Fonds propres 18    562\n",
       "BFRE en nombre de jours de CA 15    502\n",
       "BFRE en nombre de jours de CA 16    440\n",
       "BFRE en nombre de jours de CA 17    500\n",
       "BFRE en nombre de jours de CA 18    613\n",
       "Length: 87, dtype: int64"
      ]
     },
     "execution_count": 6,
     "metadata": {},
     "output_type": "execute_result"
    }
   ],
   "source": [
    "df.isna().sum()"
   ]
  },
  {
   "cell_type": "markdown",
   "id": "6c988f8b-f44f-48fd-8408-fb9560124caa",
   "metadata": {},
   "source": [
    "We have 81 features with NaN values, that have to be drop/replace. Some of our features have around 90% of NaN values.\n",
    "\n",
    "Drop or impute will be steps incorporated in the model."
   ]
  },
  {
   "cell_type": "markdown",
   "id": "2d16f929-c9d3-46a6-ab2f-cbd463234c2f",
   "metadata": {
    "tags": []
   },
   "source": [
    "### 1.2 Data Cleaning"
   ]
  },
  {
   "cell_type": "markdown",
   "id": "104bc9e9-f906-403d-b15b-890f1e6e214d",
   "metadata": {},
   "source": [
    "We will now perform some data cleaning in our dataset, with in mind what we already see above.\n",
    "\n",
    "Removing special characters, blank spaces and pass features to numeric will be some subjects that will be done in this subchapter."
   ]
  },
  {
   "cell_type": "markdown",
   "id": "c5ff9a53-5ef9-47d8-b071-9cf240d11a8b",
   "metadata": {
    "jp-MarkdownHeadingCollapsed": true,
    "tags": []
   },
   "source": [
    "#### 1.2.1 Drop Features "
   ]
  },
  {
   "cell_type": "markdown",
   "id": "c68f9541-a01c-4869-8599-020e274451d9",
   "metadata": {},
   "source": [
    "As we seen before we have features that have a big part of its composition with NaN values.\n",
    "\n",
    "Usually when we are in the presence of NaN we have to options, replace or drop. As we have features with more than 50% NaN values and, and as we'll see in the course of this project, with a considerable number of outliers. I decided to drop features that have more than 50% NaN values, because impute into these feature with any metric available or by imputation will introduce a considerable bias that will affect our modelling, preventing it to be satisfatory regarding accuracity and production usability."
   ]
  },
  {
   "cell_type": "code",
   "execution_count": 7,
   "id": "b0e54d16-f0dd-4755-99ab-25da71b9ac86",
   "metadata": {},
   "outputs": [
    {
     "data": {
      "text/plain": [
       "(688, 32)"
      ]
     },
     "execution_count": 7,
     "metadata": {},
     "output_type": "execute_result"
    }
   ],
   "source": [
    "#We will drop the features that have more than 50% of NaN values in their composition\n",
    "df.dropna(thresh = df.shape[0]*0.50, how = 'all', axis = 1, inplace = True)\n",
    "df.shape"
   ]
  },
  {
   "cell_type": "markdown",
   "id": "3955289e-bc4c-417d-b245-7d1c15b599a9",
   "metadata": {},
   "source": [
    "We obtain a dataset with still 32 features."
   ]
  },
  {
   "cell_type": "markdown",
   "id": "0313426e-5aec-47e2-af92-68e14861c23e",
   "metadata": {},
   "source": [
    "If we analyse our data we have several features that can be labeled as \"accessory\", features that are unique or will be noise to our model, such as the ID of the company, year of their creation or Borrower.\n",
    "\n",
    "These features will be dropped. "
   ]
  },
  {
   "cell_type": "code",
   "execution_count": 8,
   "id": "b4c7b0b9-c1ba-40b9-94c7-bdef632351b1",
   "metadata": {},
   "outputs": [],
   "source": [
    "#We will drop unnecessary columns that will be acessory to our model\n",
    "columns_drop = ['ID', 'Pays', 'Emprunteur', 'année de création', 'Antériorité']\n",
    "\n",
    "df.drop(columns_drop, axis = 1, inplace = True)"
   ]
  },
  {
   "cell_type": "markdown",
   "id": "443ee8f4-e6d4-4659-b1c1-9b1511e3730f",
   "metadata": {
    "jp-MarkdownHeadingCollapsed": true,
    "tags": []
   },
   "source": [
    "#### 1.2.2 Feature Cleaning "
   ]
  },
  {
   "cell_type": "markdown",
   "id": "aa1aa7dd-9e8d-415f-8df0-4651b4031454",
   "metadata": {},
   "source": [
    "As we saw, we have several categorical variables that are a mix between string and numeric entries.\n",
    "\n",
    "In this subchapter we will focus in the removal transformation of this strings into numeric variables, we will treat blank spaces, special characters, etc."
   ]
  },
  {
   "cell_type": "markdown",
   "id": "0f5716f0-265b-4f65-b97d-9c7518e543ef",
   "metadata": {},
   "source": [
    "Many of our \"numeric\" entries that are identified as strings, have a comma instead of a point. Python only recognizes floats with a point separator.\n",
    "\n",
    "We will replace every single comma in our dataset for points."
   ]
  },
  {
   "cell_type": "code",
   "execution_count": 9,
   "id": "74a665b4-82ef-4d6f-8197-e377317b02a7",
   "metadata": {},
   "outputs": [],
   "source": [
    "df=df.replace(',','.',regex=True)"
   ]
  },
  {
   "cell_type": "markdown",
   "id": "394c2d5c-b943-435c-a008-54731b2adab5",
   "metadata": {},
   "source": [
    "The four columns below instead of a specific value for a data entry have a range of possible values (p.ex, 5 - 10), we will get the first number as our entry for that cell.\n",
    "\n",
    "For example, a value as 5 - 10, will be 5, a value of 0 - 5 will be 0 and so on."
   ]
  },
  {
   "cell_type": "code",
   "execution_count": 10,
   "id": "2e08102c-c318-482e-a2f3-4f6b470cc54d",
   "metadata": {},
   "outputs": [],
   "source": [
    "df['Resultat Net 15'] = df['Resultat Net 15'].astype('str')\n",
    "df['Resultat Net 15'] = df['Resultat Net 15'].str.extract(r'([0-9.]{1,6})')\n",
    "df['Resultat Net 16'] = df['Resultat Net 16'].astype('str')\n",
    "df['Resultat Net 16'] = df['Resultat Net 16'].str.extract(r'([0-9.]{1,6})')\n",
    "df['EBE(retraité des loyers de leasing) 16'] = df['EBE(retraité des loyers de leasing) 16'].astype('str')\n",
    "df['EBE(retraité des loyers de leasing) 16'] = df['EBE(retraité des loyers de leasing) 16'].str.extract(r'([0-9.]{1,6})')\n",
    "df['EBE(retraité des loyers de leasing) 15'] = df['EBE(retraité des loyers de leasing) 15'].astype('str')\n",
    "df['EBE(retraité des loyers de leasing) 15'] = df['EBE(retraité des loyers de leasing) 15'].str.extract(r'([0-9.]{1,6})')"
   ]
  },
  {
   "cell_type": "markdown",
   "id": "ff5fabdd-df64-4ecf-9492-63db6aea28c9",
   "metadata": {},
   "source": [
    "We have several special characters in our dataset yet, such as %, * or +. The last one we will keep it for now, since it's present in a categorical variable that will be transformed during the project."
   ]
  },
  {
   "cell_type": "code",
   "execution_count": 11,
   "id": "be4f41ca-4329-4541-a9e0-404871c9ab88",
   "metadata": {},
   "outputs": [],
   "source": [
    "#We will just keep the +, it will be important for our Niveau de Risque feature\n",
    "df = df.replace(r'[^0-9a-zA-Z+.]', '', regex=True).replace(\"'\", '')\n",
    "\n",
    "#We will strip right and left our data string entries\n",
    "df = df.applymap(lambda x: x.strip() if type(x)==str else x)\n",
    "\n",
    "#We will remove white spaces in between strings in the same data entry\n",
    "df = df.applymap(lambda x: x.replace(' ','') if type(x)==str else x)"
   ]
  },
  {
   "cell_type": "markdown",
   "id": "78a03172-de50-424b-aa2f-143279cd055b",
   "metadata": {},
   "source": [
    "------------------------------------\n",
    "------------------------------------"
   ]
  },
  {
   "cell_type": "markdown",
   "id": "cf40b93a-d386-4e16-bc17-da7c7e259ac4",
   "metadata": {
    "jp-MarkdownHeadingCollapsed": true,
    "tags": []
   },
   "source": [
    "### 1.3 Feature Transformation"
   ]
  },
  {
   "cell_type": "markdown",
   "id": "3617ca40-4ba3-40cc-bfa8-b19c25590136",
   "metadata": {},
   "source": [
    "We have several features that need to be transformed into values that can be feeded to the model."
   ]
  },
  {
   "cell_type": "markdown",
   "id": "33aac775-e273-40c1-9c67-f43f8c3e5f31",
   "metadata": {},
   "source": [
    "#### 1.3.1 - Niveau de Risque"
   ]
  },
  {
   "cell_type": "code",
   "execution_count": 12,
   "id": "a3fcf655-de4b-466b-93c1-c1450195a8d4",
   "metadata": {},
   "outputs": [
    {
     "data": {
      "text/plain": [
       "array(['B', 'B+', 'C', 'A+', 'A'], dtype=object)"
      ]
     },
     "execution_count": 12,
     "metadata": {},
     "output_type": "execute_result"
    }
   ],
   "source": [
    "df['Niveau de risque'].unique()"
   ]
  },
  {
   "cell_type": "markdown",
   "id": "0e20e91a-1103-414a-9757-4a2c85afc8d1",
   "metadata": {},
   "source": [
    "Niveau de Risque has 5 different categorical variables, we need to transform this into valid values to be able to advance.\n",
    "\n",
    "We will one hote encode this variable, with pandas get_dummies function, where will obtain 5 new columns as a sparse matrix (less time and GPU consuming) and will drop the original feature."
   ]
  },
  {
   "cell_type": "code",
   "execution_count": 13,
   "id": "8a388966-0a9b-41aa-b907-8add0631a237",
   "metadata": {},
   "outputs": [],
   "source": [
    "niveau_risque = df['Niveau de risque']\n",
    "df = pd.concat([df, pd.get_dummies(df['Niveau de risque'], prefix = 'Risque_')], axis = 1)\n",
    "df.drop('Niveau de risque', axis = 1, inplace = True)"
   ]
  },
  {
   "cell_type": "markdown",
   "id": "e97454f7-ba95-4ac2-a225-78d090cbecdb",
   "metadata": {},
   "source": [
    "#### 1.3.2 - Mapping Features"
   ]
  },
  {
   "cell_type": "markdown",
   "id": "56121bc6-c029-4f86-a9d9-3d79cf6429a5",
   "metadata": {},
   "source": [
    "As you saw above with the interval range entries, we have some data that was not correctly inserted, we have values that are just numeric but others that are a string.\n",
    "\n",
    "With the help of bin cutting (this can be done too, with the simple removal of the word month), we will replace the entries by the correct value."
   ]
  },
  {
   "cell_type": "code",
   "execution_count": 14,
   "id": "30b271a4-524e-4c8d-8cc4-f89a354ab270",
   "metadata": {
    "tags": []
   },
   "outputs": [
    {
     "data": {
      "text/plain": [
       "array([12, nan, '12mois', '16mois', '7mois', '6mois', '15mois', '9.5mois',\n",
       "       '23mois', '22mois', '11mois', '', '8mois'], dtype=object)"
      ]
     },
     "execution_count": 14,
     "metadata": {},
     "output_type": "execute_result"
    }
   ],
   "source": [
    "df['Nombre de mois de la période 16'].unique()"
   ]
  },
  {
   "cell_type": "markdown",
   "id": "81585256-1264-4823-bc88-2bb296299580",
   "metadata": {},
   "source": [
    "Let's remove the mois from our strings."
   ]
  },
  {
   "cell_type": "code",
   "execution_count": 15,
   "id": "ba8093ff-e221-49b6-b79a-6988379d5364",
   "metadata": {},
   "outputs": [],
   "source": [
    "df['Nombre de mois de la période 16'] = df['Nombre de mois de la période 16'].map({'12mois':12,'':np.nan,12:12,'7mois':7,'16mois':16,\n",
    "                                                                                  '6mois':6,'15mois':15,'9.5mois':9.5,'23mois':23,'22mois':22,\n",
    "                                                                                  '11mois':11,'8mois':8})\n",
    "df['Nombre de mois de la période 17'] = df['Nombre de mois de la période 17'].map({'12mois':12,'12':12,'':np.nan,12:12,9:9,21:21,6:6,\n",
    "                                                                                  '15mois': 15, '18mois':18, '9mois': 9,'31102017':np.nan})"
   ]
  },
  {
   "cell_type": "markdown",
   "id": "45c41374-a55a-43c9-acb7-ff2960ac4106",
   "metadata": {},
   "source": [
    "Feature effectifs had too a interval range of possible employees, as you remembered we remove the most of the special characters from our dataset and - was one of them. So we will now map the features that we have left to valid values, the greater value of the range will be incorporated in the dataset."
   ]
  },
  {
   "cell_type": "code",
   "execution_count": 16,
   "id": "bd12f8d3-92d6-4ca4-a3d8-6f4971b8c85b",
   "metadata": {},
   "outputs": [],
   "source": [
    "df.effectifs = df.effectifs.map({'1150':50,'110':10, '51250':250,'2511000':1000, '2511.000':1000,'':np.nan,\n",
    "                                 'Plusde1000': 2000, 'Plusde600' : 1000 })"
   ]
  },
  {
   "cell_type": "markdown",
   "id": "5f439a9a-ca0f-45db-abb9-d6476e890635",
   "metadata": {},
   "source": [
    "#### 1.3.3 Target Feature Inconsistency"
   ]
  },
  {
   "cell_type": "markdown",
   "id": "4c4ed1c0-0806-4739-9a72-da113476ce5a",
   "metadata": {},
   "source": [
    "In our target feature we have a mix of numbers, percentage and decimal, that are both valids.\n",
    "\n",
    "So we will transform the percentage values that we have to decimal ones. To do this we build a small function."
   ]
  },
  {
   "cell_type": "code",
   "execution_count": 17,
   "id": "d7019664-bf09-45c2-b806-6c5a6343026e",
   "metadata": {
    "tags": []
   },
   "outputs": [
    {
     "name": "stderr",
     "output_type": "stream",
     "text": [
      "C:\\Users\\alvar\\AppData\\Local\\Temp/ipykernel_22820/3201663458.py:7: SettingWithCopyWarning: \n",
      "A value is trying to be set on a copy of a slice from a DataFrame\n",
      "\n",
      "See the caveats in the documentation: https://pandas.pydata.org/pandas-docs/stable/user_guide/indexing.html#returning-a-view-versus-a-copy\n",
      "  df[column][index] = i / 100\n"
     ]
    },
    {
     "data": {
      "text/html": [
       "<div>\n",
       "<style scoped>\n",
       "    .dataframe tbody tr th:only-of-type {\n",
       "        vertical-align: middle;\n",
       "    }\n",
       "\n",
       "    .dataframe tbody tr th {\n",
       "        vertical-align: top;\n",
       "    }\n",
       "\n",
       "    .dataframe thead th {\n",
       "        text-align: right;\n",
       "    }\n",
       "</style>\n",
       "<table border=\"1\" class=\"dataframe\">\n",
       "  <thead>\n",
       "    <tr style=\"text-align: right;\">\n",
       "      <th></th>\n",
       "      <th>Taux</th>\n",
       "      <th>Mois</th>\n",
       "      <th>Montant</th>\n",
       "      <th>capital social</th>\n",
       "      <th>effectifs</th>\n",
       "      <th>Nombre de mois de la période 16</th>\n",
       "      <th>Nombre de mois de la période 17</th>\n",
       "      <th>Chiffre d'Affaires 15</th>\n",
       "      <th>Chiffre d'Affaires 16</th>\n",
       "      <th>Evolution du Chiffre d'Affaires 16</th>\n",
       "      <th>...</th>\n",
       "      <th>Fonds Propres / Total Bilan 16</th>\n",
       "      <th>Dettes Nettes / EBE(* années) 15</th>\n",
       "      <th>Dettes Nettes / EBE(* années) 16</th>\n",
       "      <th>Dettes Nettes / Fonds propres 15</th>\n",
       "      <th>Dettes Nettes / Fonds propres 16</th>\n",
       "      <th>Risque__A</th>\n",
       "      <th>Risque__A+</th>\n",
       "      <th>Risque__B</th>\n",
       "      <th>Risque__B+</th>\n",
       "      <th>Risque__C</th>\n",
       "    </tr>\n",
       "  </thead>\n",
       "  <tbody>\n",
       "    <tr>\n",
       "      <th>0</th>\n",
       "      <td>0.0585</td>\n",
       "      <td>48</td>\n",
       "      <td>1100000</td>\n",
       "      <td>3058500</td>\n",
       "      <td>50.0</td>\n",
       "      <td>12.0</td>\n",
       "      <td>12.0</td>\n",
       "      <td>NaN</td>\n",
       "      <td>16801</td>\n",
       "      <td>NaN</td>\n",
       "      <td>...</td>\n",
       "      <td>42.92</td>\n",
       "      <td>NaN</td>\n",
       "      <td>12.74</td>\n",
       "      <td>NaN</td>\n",
       "      <td>125.88</td>\n",
       "      <td>0</td>\n",
       "      <td>0</td>\n",
       "      <td>1</td>\n",
       "      <td>0</td>\n",
       "      <td>0</td>\n",
       "    </tr>\n",
       "    <tr>\n",
       "      <th>1</th>\n",
       "      <td>0.0550</td>\n",
       "      <td>48</td>\n",
       "      <td>310000</td>\n",
       "      <td>396072</td>\n",
       "      <td>50.0</td>\n",
       "      <td>12.0</td>\n",
       "      <td>12.0</td>\n",
       "      <td>NaN</td>\n",
       "      <td>1579</td>\n",
       "      <td>NaN</td>\n",
       "      <td>...</td>\n",
       "      <td>38.70</td>\n",
       "      <td>NaN</td>\n",
       "      <td>0.47</td>\n",
       "      <td>NaN</td>\n",
       "      <td>21.51</td>\n",
       "      <td>0</td>\n",
       "      <td>0</td>\n",
       "      <td>0</td>\n",
       "      <td>1</td>\n",
       "      <td>0</td>\n",
       "    </tr>\n",
       "    <tr>\n",
       "      <th>2</th>\n",
       "      <td>0.0645</td>\n",
       "      <td>48</td>\n",
       "      <td>165000</td>\n",
       "      <td>900</td>\n",
       "      <td>10.0</td>\n",
       "      <td>12.0</td>\n",
       "      <td>12.0</td>\n",
       "      <td>NaN</td>\n",
       "      <td>514</td>\n",
       "      <td>NaN</td>\n",
       "      <td>...</td>\n",
       "      <td>1.82</td>\n",
       "      <td>NaN</td>\n",
       "      <td>1.02</td>\n",
       "      <td>NaN</td>\n",
       "      <td>2870.00</td>\n",
       "      <td>0</td>\n",
       "      <td>0</td>\n",
       "      <td>1</td>\n",
       "      <td>0</td>\n",
       "      <td>0</td>\n",
       "    </tr>\n",
       "    <tr>\n",
       "      <th>3</th>\n",
       "      <td>0.0600</td>\n",
       "      <td>60</td>\n",
       "      <td>2000000</td>\n",
       "      <td>10000</td>\n",
       "      <td>250.0</td>\n",
       "      <td>NaN</td>\n",
       "      <td>12.0</td>\n",
       "      <td>NaN</td>\n",
       "      <td>NaN</td>\n",
       "      <td>NaN</td>\n",
       "      <td>...</td>\n",
       "      <td>NaN</td>\n",
       "      <td>NaN</td>\n",
       "      <td>NaN</td>\n",
       "      <td>NaN</td>\n",
       "      <td>NaN</td>\n",
       "      <td>0</td>\n",
       "      <td>0</td>\n",
       "      <td>1</td>\n",
       "      <td>0</td>\n",
       "      <td>0</td>\n",
       "    </tr>\n",
       "    <tr>\n",
       "      <th>4</th>\n",
       "      <td>0.0490</td>\n",
       "      <td>36</td>\n",
       "      <td>100000</td>\n",
       "      <td>10000</td>\n",
       "      <td>NaN</td>\n",
       "      <td>12.0</td>\n",
       "      <td>12.0</td>\n",
       "      <td>NaN</td>\n",
       "      <td>790</td>\n",
       "      <td>NaN</td>\n",
       "      <td>...</td>\n",
       "      <td>58.62</td>\n",
       "      <td>NaN</td>\n",
       "      <td>0.99</td>\n",
       "      <td>NaN</td>\n",
       "      <td>0.22</td>\n",
       "      <td>0</td>\n",
       "      <td>0</td>\n",
       "      <td>0</td>\n",
       "      <td>1</td>\n",
       "      <td>0</td>\n",
       "    </tr>\n",
       "    <tr>\n",
       "      <th>...</th>\n",
       "      <td>...</td>\n",
       "      <td>...</td>\n",
       "      <td>...</td>\n",
       "      <td>...</td>\n",
       "      <td>...</td>\n",
       "      <td>...</td>\n",
       "      <td>...</td>\n",
       "      <td>...</td>\n",
       "      <td>...</td>\n",
       "      <td>...</td>\n",
       "      <td>...</td>\n",
       "      <td>...</td>\n",
       "      <td>...</td>\n",
       "      <td>...</td>\n",
       "      <td>...</td>\n",
       "      <td>...</td>\n",
       "      <td>...</td>\n",
       "      <td>...</td>\n",
       "      <td>...</td>\n",
       "      <td>...</td>\n",
       "      <td>...</td>\n",
       "    </tr>\n",
       "    <tr>\n",
       "      <th>683</th>\n",
       "      <td>0.0800</td>\n",
       "      <td>36</td>\n",
       "      <td>150000</td>\n",
       "      <td>3100</td>\n",
       "      <td>10.0</td>\n",
       "      <td>NaN</td>\n",
       "      <td>NaN</td>\n",
       "      <td>2718</td>\n",
       "      <td>9424</td>\n",
       "      <td>246.72</td>\n",
       "      <td>...</td>\n",
       "      <td>6.21</td>\n",
       "      <td>2.96</td>\n",
       "      <td>2.83</td>\n",
       "      <td>-5.49</td>\n",
       "      <td>3.9</td>\n",
       "      <td>0</td>\n",
       "      <td>0</td>\n",
       "      <td>0</td>\n",
       "      <td>0</td>\n",
       "      <td>1</td>\n",
       "    </tr>\n",
       "    <tr>\n",
       "      <th>684</th>\n",
       "      <td>0.0700</td>\n",
       "      <td>60</td>\n",
       "      <td>1050000</td>\n",
       "      <td>900800</td>\n",
       "      <td>250.0</td>\n",
       "      <td>NaN</td>\n",
       "      <td>NaN</td>\n",
       "      <td>8840</td>\n",
       "      <td>8468</td>\n",
       "      <td>6.59</td>\n",
       "      <td>...</td>\n",
       "      <td>0.36</td>\n",
       "      <td>1.34</td>\n",
       "      <td>2.02</td>\n",
       "      <td>2.36</td>\n",
       "      <td>1.86</td>\n",
       "      <td>0</td>\n",
       "      <td>0</td>\n",
       "      <td>1</td>\n",
       "      <td>0</td>\n",
       "      <td>0</td>\n",
       "    </tr>\n",
       "    <tr>\n",
       "      <th>685</th>\n",
       "      <td>0.0950</td>\n",
       "      <td>60</td>\n",
       "      <td>210000</td>\n",
       "      <td>129215</td>\n",
       "      <td>10.0</td>\n",
       "      <td>NaN</td>\n",
       "      <td>NaN</td>\n",
       "      <td>1681</td>\n",
       "      <td></td>\n",
       "      <td></td>\n",
       "      <td>...</td>\n",
       "      <td></td>\n",
       "      <td>4.17</td>\n",
       "      <td></td>\n",
       "      <td>0.56</td>\n",
       "      <td></td>\n",
       "      <td>0</td>\n",
       "      <td>0</td>\n",
       "      <td>0</td>\n",
       "      <td>0</td>\n",
       "      <td>1</td>\n",
       "    </tr>\n",
       "    <tr>\n",
       "      <th>686</th>\n",
       "      <td>0.0700</td>\n",
       "      <td>36</td>\n",
       "      <td>105000</td>\n",
       "      <td>727041</td>\n",
       "      <td>10.0</td>\n",
       "      <td>NaN</td>\n",
       "      <td>NaN</td>\n",
       "      <td>723</td>\n",
       "      <td></td>\n",
       "      <td></td>\n",
       "      <td>...</td>\n",
       "      <td></td>\n",
       "      <td>1.76</td>\n",
       "      <td></td>\n",
       "      <td>0.43</td>\n",
       "      <td></td>\n",
       "      <td>0</td>\n",
       "      <td>0</td>\n",
       "      <td>1</td>\n",
       "      <td>0</td>\n",
       "      <td>0</td>\n",
       "    </tr>\n",
       "    <tr>\n",
       "      <th>687</th>\n",
       "      <td>0.0900</td>\n",
       "      <td>60</td>\n",
       "      <td>310000</td>\n",
       "      <td>136500</td>\n",
       "      <td>250.0</td>\n",
       "      <td>NaN</td>\n",
       "      <td>NaN</td>\n",
       "      <td>5941</td>\n",
       "      <td></td>\n",
       "      <td></td>\n",
       "      <td>...</td>\n",
       "      <td></td>\n",
       "      <td>1.80</td>\n",
       "      <td></td>\n",
       "      <td>1.01</td>\n",
       "      <td></td>\n",
       "      <td>0</td>\n",
       "      <td>0</td>\n",
       "      <td>0</td>\n",
       "      <td>0</td>\n",
       "      <td>1</td>\n",
       "    </tr>\n",
       "  </tbody>\n",
       "</table>\n",
       "<p>688 rows × 31 columns</p>\n",
       "</div>"
      ],
      "text/plain": [
       "       Taux  Mois  Montant capital social  effectifs  \\\n",
       "0    0.0585    48  1100000        3058500       50.0   \n",
       "1    0.0550    48   310000         396072       50.0   \n",
       "2    0.0645    48   165000            900       10.0   \n",
       "3    0.0600    60  2000000          10000      250.0   \n",
       "4    0.0490    36   100000          10000        NaN   \n",
       "..      ...   ...      ...            ...        ...   \n",
       "683  0.0800    36   150000           3100       10.0   \n",
       "684  0.0700    60  1050000         900800      250.0   \n",
       "685  0.0950    60   210000         129215       10.0   \n",
       "686  0.0700    36   105000         727041       10.0   \n",
       "687  0.0900    60   310000         136500      250.0   \n",
       "\n",
       "     Nombre de mois de la période 16  Nombre de mois de la période 17  \\\n",
       "0                               12.0                             12.0   \n",
       "1                               12.0                             12.0   \n",
       "2                               12.0                             12.0   \n",
       "3                                NaN                             12.0   \n",
       "4                               12.0                             12.0   \n",
       "..                               ...                              ...   \n",
       "683                              NaN                              NaN   \n",
       "684                              NaN                              NaN   \n",
       "685                              NaN                              NaN   \n",
       "686                              NaN                              NaN   \n",
       "687                              NaN                              NaN   \n",
       "\n",
       "    Chiffre d'Affaires 15 Chiffre d'Affaires 16  \\\n",
       "0                     NaN                 16801   \n",
       "1                     NaN                  1579   \n",
       "2                     NaN                   514   \n",
       "3                     NaN                   NaN   \n",
       "4                     NaN                   790   \n",
       "..                    ...                   ...   \n",
       "683                  2718                  9424   \n",
       "684                  8840                  8468   \n",
       "685                  1681                         \n",
       "686                   723                         \n",
       "687                  5941                         \n",
       "\n",
       "    Evolution du Chiffre d'Affaires 16  ... Fonds Propres / Total Bilan 16  \\\n",
       "0                                  NaN  ...                          42.92   \n",
       "1                                  NaN  ...                          38.70   \n",
       "2                                  NaN  ...                           1.82   \n",
       "3                                  NaN  ...                            NaN   \n",
       "4                                  NaN  ...                          58.62   \n",
       "..                                 ...  ...                            ...   \n",
       "683                             246.72  ...                           6.21   \n",
       "684                               6.59  ...                           0.36   \n",
       "685                                     ...                                  \n",
       "686                                     ...                                  \n",
       "687                                     ...                                  \n",
       "\n",
       "    Dettes Nettes / EBE(* années) 15 Dettes Nettes / EBE(* années) 16  \\\n",
       "0                                NaN                            12.74   \n",
       "1                                NaN                             0.47   \n",
       "2                                NaN                             1.02   \n",
       "3                                NaN                              NaN   \n",
       "4                                NaN                             0.99   \n",
       "..                               ...                              ...   \n",
       "683                             2.96                             2.83   \n",
       "684                             1.34                             2.02   \n",
       "685                             4.17                                    \n",
       "686                             1.76                                    \n",
       "687                             1.80                                    \n",
       "\n",
       "    Dettes Nettes / Fonds propres 15 Dettes Nettes / Fonds propres 16  \\\n",
       "0                                NaN                           125.88   \n",
       "1                                NaN                            21.51   \n",
       "2                                NaN                          2870.00   \n",
       "3                                NaN                              NaN   \n",
       "4                                NaN                             0.22   \n",
       "..                               ...                              ...   \n",
       "683                            -5.49                              3.9   \n",
       "684                             2.36                             1.86   \n",
       "685                             0.56                                    \n",
       "686                             0.43                                    \n",
       "687                             1.01                                    \n",
       "\n",
       "    Risque__A Risque__A+ Risque__B Risque__B+ Risque__C  \n",
       "0           0          0         1          0         0  \n",
       "1           0          0         0          1         0  \n",
       "2           0          0         1          0         0  \n",
       "3           0          0         1          0         0  \n",
       "4           0          0         0          1         0  \n",
       "..        ...        ...       ...        ...       ...  \n",
       "683         0          0         0          0         1  \n",
       "684         0          0         1          0         0  \n",
       "685         0          0         0          0         1  \n",
       "686         0          0         1          0         0  \n",
       "687         0          0         0          0         1  \n",
       "\n",
       "[688 rows x 31 columns]"
      ]
     },
     "execution_count": 17,
     "metadata": {},
     "output_type": "execute_result"
    }
   ],
   "source": [
    "def taux_percentage(df, column):\n",
    "    ''' Function to pass all percentage numbers to non percentage numbers'''\n",
    "    df[column] = df[column].apply(pd.to_numeric, errors='coerce')\n",
    "    index = 0\n",
    "    for i in df[column]:\n",
    "        if i > 1:\n",
    "            df[column][index] = i / 100\n",
    "        index += 1\n",
    "    return df\n",
    "taux_percentage(df, 'Taux')"
   ]
  },
  {
   "cell_type": "markdown",
   "id": "fb23d235-556c-433b-bf2a-cc358468569f",
   "metadata": {},
   "source": [
    "----------------------------"
   ]
  },
  {
   "cell_type": "markdown",
   "id": "13e18d5f-1946-4707-860a-013c8194ad14",
   "metadata": {},
   "source": [
    "#### 1.3.4 Data Type Change "
   ]
  },
  {
   "cell_type": "markdown",
   "id": "8190f6f6-0e4c-4aab-9c2b-ce00780a7cc2",
   "metadata": {},
   "source": [
    "Most of our entries are already transformed as numeric, however we will pass every data entry to the function below and transform it to float, the ones that are not able to be transformed will stay as NaN values."
   ]
  },
  {
   "cell_type": "code",
   "execution_count": 18,
   "id": "a7d1f07d-df53-4065-959e-fcefa1cc6a38",
   "metadata": {},
   "outputs": [],
   "source": [
    "def func(x):\n",
    "    try:\n",
    "        return float(x)\n",
    "    except:\n",
    "        return np.nan\n",
    "    \n",
    "for column in df.columns:\n",
    "    df[column] = df[column].apply(func)"
   ]
  },
  {
   "cell_type": "markdown",
   "id": "9be4e9df-ecd0-49a2-8312-25d47abf41aa",
   "metadata": {},
   "source": [
    "#### 1.3.5 DataSet Visualization"
   ]
  },
  {
   "cell_type": "code",
   "execution_count": 19,
   "id": "2bbbecb1-da1b-473b-ab0e-b9eaae02657f",
   "metadata": {},
   "outputs": [
    {
     "data": {
      "text/html": [
       "<div>\n",
       "<style scoped>\n",
       "    .dataframe tbody tr th:only-of-type {\n",
       "        vertical-align: middle;\n",
       "    }\n",
       "\n",
       "    .dataframe tbody tr th {\n",
       "        vertical-align: top;\n",
       "    }\n",
       "\n",
       "    .dataframe thead th {\n",
       "        text-align: right;\n",
       "    }\n",
       "</style>\n",
       "<table border=\"1\" class=\"dataframe\">\n",
       "  <thead>\n",
       "    <tr style=\"text-align: right;\">\n",
       "      <th></th>\n",
       "      <th>Taux</th>\n",
       "      <th>Mois</th>\n",
       "      <th>Montant</th>\n",
       "      <th>capital social</th>\n",
       "      <th>effectifs</th>\n",
       "      <th>Nombre de mois de la période 16</th>\n",
       "      <th>Nombre de mois de la période 17</th>\n",
       "      <th>Chiffre d'Affaires 15</th>\n",
       "      <th>Chiffre d'Affaires 16</th>\n",
       "      <th>Evolution du Chiffre d'Affaires 16</th>\n",
       "      <th>...</th>\n",
       "      <th>Fonds Propres / Total Bilan 16</th>\n",
       "      <th>Dettes Nettes / EBE(* années) 15</th>\n",
       "      <th>Dettes Nettes / EBE(* années) 16</th>\n",
       "      <th>Dettes Nettes / Fonds propres 15</th>\n",
       "      <th>Dettes Nettes / Fonds propres 16</th>\n",
       "      <th>Risque__A</th>\n",
       "      <th>Risque__A+</th>\n",
       "      <th>Risque__B</th>\n",
       "      <th>Risque__B+</th>\n",
       "      <th>Risque__C</th>\n",
       "    </tr>\n",
       "  </thead>\n",
       "  <tbody>\n",
       "    <tr>\n",
       "      <th>0</th>\n",
       "      <td>0.0585</td>\n",
       "      <td>48.0</td>\n",
       "      <td>1100000.0</td>\n",
       "      <td>3058500.0</td>\n",
       "      <td>50.0</td>\n",
       "      <td>12.0</td>\n",
       "      <td>12.0</td>\n",
       "      <td>NaN</td>\n",
       "      <td>16801.0</td>\n",
       "      <td>NaN</td>\n",
       "      <td>...</td>\n",
       "      <td>42.92</td>\n",
       "      <td>NaN</td>\n",
       "      <td>12.74</td>\n",
       "      <td>NaN</td>\n",
       "      <td>125.88</td>\n",
       "      <td>0.0</td>\n",
       "      <td>0.0</td>\n",
       "      <td>1.0</td>\n",
       "      <td>0.0</td>\n",
       "      <td>0.0</td>\n",
       "    </tr>\n",
       "    <tr>\n",
       "      <th>1</th>\n",
       "      <td>0.0550</td>\n",
       "      <td>48.0</td>\n",
       "      <td>310000.0</td>\n",
       "      <td>396072.0</td>\n",
       "      <td>50.0</td>\n",
       "      <td>12.0</td>\n",
       "      <td>12.0</td>\n",
       "      <td>NaN</td>\n",
       "      <td>1579.0</td>\n",
       "      <td>NaN</td>\n",
       "      <td>...</td>\n",
       "      <td>38.70</td>\n",
       "      <td>NaN</td>\n",
       "      <td>0.47</td>\n",
       "      <td>NaN</td>\n",
       "      <td>21.51</td>\n",
       "      <td>0.0</td>\n",
       "      <td>0.0</td>\n",
       "      <td>0.0</td>\n",
       "      <td>1.0</td>\n",
       "      <td>0.0</td>\n",
       "    </tr>\n",
       "    <tr>\n",
       "      <th>2</th>\n",
       "      <td>0.0645</td>\n",
       "      <td>48.0</td>\n",
       "      <td>165000.0</td>\n",
       "      <td>900.0</td>\n",
       "      <td>10.0</td>\n",
       "      <td>12.0</td>\n",
       "      <td>12.0</td>\n",
       "      <td>NaN</td>\n",
       "      <td>514.0</td>\n",
       "      <td>NaN</td>\n",
       "      <td>...</td>\n",
       "      <td>1.82</td>\n",
       "      <td>NaN</td>\n",
       "      <td>1.02</td>\n",
       "      <td>NaN</td>\n",
       "      <td>2870.00</td>\n",
       "      <td>0.0</td>\n",
       "      <td>0.0</td>\n",
       "      <td>1.0</td>\n",
       "      <td>0.0</td>\n",
       "      <td>0.0</td>\n",
       "    </tr>\n",
       "    <tr>\n",
       "      <th>3</th>\n",
       "      <td>0.0600</td>\n",
       "      <td>60.0</td>\n",
       "      <td>2000000.0</td>\n",
       "      <td>10000.0</td>\n",
       "      <td>250.0</td>\n",
       "      <td>NaN</td>\n",
       "      <td>12.0</td>\n",
       "      <td>NaN</td>\n",
       "      <td>NaN</td>\n",
       "      <td>NaN</td>\n",
       "      <td>...</td>\n",
       "      <td>NaN</td>\n",
       "      <td>NaN</td>\n",
       "      <td>NaN</td>\n",
       "      <td>NaN</td>\n",
       "      <td>NaN</td>\n",
       "      <td>0.0</td>\n",
       "      <td>0.0</td>\n",
       "      <td>1.0</td>\n",
       "      <td>0.0</td>\n",
       "      <td>0.0</td>\n",
       "    </tr>\n",
       "    <tr>\n",
       "      <th>4</th>\n",
       "      <td>0.0490</td>\n",
       "      <td>36.0</td>\n",
       "      <td>100000.0</td>\n",
       "      <td>10000.0</td>\n",
       "      <td>NaN</td>\n",
       "      <td>12.0</td>\n",
       "      <td>12.0</td>\n",
       "      <td>NaN</td>\n",
       "      <td>790.0</td>\n",
       "      <td>NaN</td>\n",
       "      <td>...</td>\n",
       "      <td>58.62</td>\n",
       "      <td>NaN</td>\n",
       "      <td>0.99</td>\n",
       "      <td>NaN</td>\n",
       "      <td>0.22</td>\n",
       "      <td>0.0</td>\n",
       "      <td>0.0</td>\n",
       "      <td>0.0</td>\n",
       "      <td>1.0</td>\n",
       "      <td>0.0</td>\n",
       "    </tr>\n",
       "  </tbody>\n",
       "</table>\n",
       "<p>5 rows × 31 columns</p>\n",
       "</div>"
      ],
      "text/plain": [
       "     Taux  Mois    Montant  capital social  effectifs  \\\n",
       "0  0.0585  48.0  1100000.0       3058500.0       50.0   \n",
       "1  0.0550  48.0   310000.0        396072.0       50.0   \n",
       "2  0.0645  48.0   165000.0           900.0       10.0   \n",
       "3  0.0600  60.0  2000000.0         10000.0      250.0   \n",
       "4  0.0490  36.0   100000.0         10000.0        NaN   \n",
       "\n",
       "   Nombre de mois de la période 16  Nombre de mois de la période 17  \\\n",
       "0                             12.0                             12.0   \n",
       "1                             12.0                             12.0   \n",
       "2                             12.0                             12.0   \n",
       "3                              NaN                             12.0   \n",
       "4                             12.0                             12.0   \n",
       "\n",
       "   Chiffre d'Affaires 15  Chiffre d'Affaires 16  \\\n",
       "0                    NaN                16801.0   \n",
       "1                    NaN                 1579.0   \n",
       "2                    NaN                  514.0   \n",
       "3                    NaN                    NaN   \n",
       "4                    NaN                  790.0   \n",
       "\n",
       "   Evolution du Chiffre d'Affaires 16  ...  Fonds Propres / Total Bilan 16  \\\n",
       "0                                 NaN  ...                           42.92   \n",
       "1                                 NaN  ...                           38.70   \n",
       "2                                 NaN  ...                            1.82   \n",
       "3                                 NaN  ...                             NaN   \n",
       "4                                 NaN  ...                           58.62   \n",
       "\n",
       "   Dettes Nettes / EBE(* années) 15  Dettes Nettes / EBE(* années) 16  \\\n",
       "0                               NaN                             12.74   \n",
       "1                               NaN                              0.47   \n",
       "2                               NaN                              1.02   \n",
       "3                               NaN                               NaN   \n",
       "4                               NaN                              0.99   \n",
       "\n",
       "   Dettes Nettes / Fonds propres 15  Dettes Nettes / Fonds propres 16  \\\n",
       "0                               NaN                            125.88   \n",
       "1                               NaN                             21.51   \n",
       "2                               NaN                           2870.00   \n",
       "3                               NaN                               NaN   \n",
       "4                               NaN                              0.22   \n",
       "\n",
       "   Risque__A  Risque__A+  Risque__B  Risque__B+  Risque__C  \n",
       "0        0.0         0.0        1.0         0.0        0.0  \n",
       "1        0.0         0.0        0.0         1.0        0.0  \n",
       "2        0.0         0.0        1.0         0.0        0.0  \n",
       "3        0.0         0.0        1.0         0.0        0.0  \n",
       "4        0.0         0.0        0.0         1.0        0.0  \n",
       "\n",
       "[5 rows x 31 columns]"
      ]
     },
     "execution_count": 19,
     "metadata": {},
     "output_type": "execute_result"
    }
   ],
   "source": [
    "df.head()"
   ]
  },
  {
   "cell_type": "markdown",
   "id": "5495e033-01ae-4deb-851d-44bd6f7a2427",
   "metadata": {},
   "source": [
    "We will save the dataset cleaned to a csv file to be able to use it in another modelling or tasks."
   ]
  },
  {
   "cell_type": "code",
   "execution_count": 20,
   "id": "9abcc933-66a1-4c0f-87e0-737b125e33ae",
   "metadata": {},
   "outputs": [],
   "source": [
    "df.to_csv('Final_Data_Cleansing.csv', index=False)"
   ]
  },
  {
   "cell_type": "markdown",
   "id": "2bff95d7-b087-4308-a6a2-3dc229a645c6",
   "metadata": {
    "jp-MarkdownHeadingCollapsed": true,
    "tags": []
   },
   "source": [
    "## Chapter 2. EDA - Outliers, NaN & Characteristics."
   ]
  },
  {
   "cell_type": "markdown",
   "id": "cd5863f7-0d36-4a2b-9d2c-22617becbba3",
   "metadata": {
    "tags": []
   },
   "source": [
    "### 2.1 - Introduction"
   ]
  },
  {
   "cell_type": "markdown",
   "id": "ce06ddfa-3c0f-4022-9113-1affe5e12093",
   "metadata": {},
   "source": [
    "In this section we will verify some features regarding the presence of outliers or not.\n",
    "\n",
    "As you can understand, my lack knowdledge in this subject and absence of some glossary makes this task harder because I'm not able to understand deeply which outliers are reasonable or not. Due to this I decide to drop/replace just some outliers and keep the generic information from the initial dataset.\n",
    "Of course this decision will impact the model, however making changes over things that I can assess if are reasonable will impact even more the dataset, however, we'll have better idea when we finish the modelling step."
   ]
  },
  {
   "cell_type": "markdown",
   "id": "549fd712-0295-492c-bf82-344fffafea0e",
   "metadata": {
    "tags": []
   },
   "source": [
    "### 2.2 - Outliers"
   ]
  },
  {
   "cell_type": "markdown",
   "id": "a3a1b3d9-2b3a-4848-9ee8-49457151a825",
   "metadata": {},
   "source": [
    "#### 2.2.1 Outliers Detecion & Distribution Analysis"
   ]
  },
  {
   "cell_type": "markdown",
   "id": "46c64664-fb45-4f7d-850b-4a375a03cbcb",
   "metadata": {},
   "source": [
    "Most of our features follows a right skewed distribution, where we have outliers in our right side of our distribution. This makes the average being pushed to the right reaching higher values.\n",
    "\n",
    "Mode is the central point of our distribution with the median close to it..\n",
    "\n",
    "Below we have an example of the generic behaviour of our features, right skewed, with larger outliers."
   ]
  },
  {
   "cell_type": "code",
   "execution_count": 21,
   "id": "4b774bb2-9a71-4eae-87c5-1f5064a6ab28",
   "metadata": {
    "tags": []
   },
   "outputs": [
    {
     "data": {
      "image/png": "[encoded data removed]",
      "text/plain": [
       "<Figure size 1080x360 with 2 Axes>"
      ]
     },
     "metadata": {
      "needs_background": "light"
     },
     "output_type": "display_data"
    }
   ],
   "source": [
    "fig, ax = plt.subplots(1,2, figsize = (15,5))\n",
    "\n",
    "sns.histplot(df[\"Dettes Nettes / Fonds propres 16\"], bins = 20, ax = ax[0])\n",
    "sns.boxplot(data = df[\"Dettes Nettes / Fonds propres 16\"], ax = ax[1])\n",
    "ax[1].set_title('Dettes Nettes / Fonds propres 16 Outliers Detection')\n",
    "ax[0].set_title('Dettes Nettes / Fonds propres 16 Distribution')\n",
    "plt.show()"
   ]
  },
  {
   "cell_type": "markdown",
   "id": "783af328-5911-47a4-a337-eb8e836735a3",
   "metadata": {},
   "source": [
    "Below we have several plots for some features in our dataset, where every single one has outliers in their composition"
   ]
  },
  {
   "cell_type": "code",
   "execution_count": 22,
   "id": "184367b1-48fc-43f8-a883-2329fbf10c58",
   "metadata": {
    "tags": []
   },
   "outputs": [
    {
     "data": {
      "image/png": "[encoded data removed]",
      "text/plain": [
       "<Figure size 1440x504 with 4 Axes>"
      ]
     },
     "metadata": {
      "needs_background": "light"
     },
     "output_type": "display_data"
    }
   ],
   "source": [
    "fig, ax = plt.subplots(1,4, figsize = (20,7))\n",
    "sns.boxplot(data = df, y = \"Chiffre d'Affaires 15\", ax = ax[0])\n",
    "sns.boxplot(data = df, y = 'Fonds Propres / Total Bilan 16', ax= ax[1])\n",
    "sns.boxplot(data = df, y = 'Dettes Nettes / EBE(* années) 16', ax = ax[2])\n",
    "sns.boxplot(data = df, y = 'Dettes Nettes / Fonds propres 15', ax = ax[3])\n",
    "fig.suptitle('Plot 1: Outliers Identification')\n",
    "plt.show()"
   ]
  },
  {
   "cell_type": "markdown",
   "id": "715f7858-05d5-4023-8505-0cc9592a6fe5",
   "metadata": {
    "tags": []
   },
   "source": [
    "#### 2.2.1 Outliers Treatment"
   ]
  },
  {
   "cell_type": "markdown",
   "id": "6f4050ae-d0c6-44fa-81a6-859223a2c675",
   "metadata": {},
   "source": [
    "Now we will analyse some features, the outliers present and try to make sustainable decisions over replace or keeping it.\n",
    "\n",
    "We will not drop outliers, we already have a really small dataset. If we drop any outlier he will jeopardizing the model and we will finish with a worthless not generalized model."
   ]
  },
  {
   "cell_type": "markdown",
   "id": "9c80058d-24b6-4767-af96-6597483227a4",
   "metadata": {},
   "source": [
    "First, we will define a function to plot and identify the existing outliers in our features."
   ]
  },
  {
   "cell_type": "code",
   "execution_count": 23,
   "id": "e4464454-d78f-4117-be82-b5b7819803ac",
   "metadata": {},
   "outputs": [],
   "source": [
    "X = df.drop('Taux', axis = 1)\n",
    "y = df['Taux']"
   ]
  },
  {
   "cell_type": "code",
   "execution_count": 24,
   "id": "8b9c7f19-88cb-4ae6-8eb0-f7675ed386d3",
   "metadata": {},
   "outputs": [],
   "source": [
    "def box_plot(df, column):\n",
    "    '''Function that accepts a dataset and a column to evaluate the existence of outliers'''\n",
    "    Q1 = df[column].quantile(0.25)\n",
    "    Q3 = df[column].quantile(0.75)\n",
    "    IQR = Q3 - Q1\n",
    "    \n",
    "    sns.boxplot(data = df[column]).set_title(f'Outliers detection of {column} feature')\n",
    "    plt.show()\n",
    "    \n",
    "    return df[((df[column] < (Q1 - 1.5 * IQR)) |(df[column] > (Q3 + 1.5 * IQR)))]"
   ]
  },
  {
   "cell_type": "markdown",
   "id": "42d31e27-4e96-4015-b8a5-fd7973918079",
   "metadata": {},
   "source": [
    "##### 2.2.1.1 Montant"
   ]
  },
  {
   "cell_type": "code",
   "execution_count": 25,
   "id": "0862985c-d3e1-4daf-8ce6-81804dd3001e",
   "metadata": {
    "tags": []
   },
   "outputs": [
    {
     "data": {
      "image/png": "[encoded data removed]",
      "text/plain": [
       "<Figure size 432x288 with 1 Axes>"
      ]
     },
     "metadata": {
      "needs_background": "light"
     },
     "output_type": "display_data"
    },
    {
     "data": {
      "text/html": [
       "<div>\n",
       "<style scoped>\n",
       "    .dataframe tbody tr th:only-of-type {\n",
       "        vertical-align: middle;\n",
       "    }\n",
       "\n",
       "    .dataframe tbody tr th {\n",
       "        vertical-align: top;\n",
       "    }\n",
       "\n",
       "    .dataframe thead th {\n",
       "        text-align: right;\n",
       "    }\n",
       "</style>\n",
       "<table border=\"1\" class=\"dataframe\">\n",
       "  <thead>\n",
       "    <tr style=\"text-align: right;\">\n",
       "      <th></th>\n",
       "      <th>Mois</th>\n",
       "      <th>Montant</th>\n",
       "      <th>capital social</th>\n",
       "      <th>effectifs</th>\n",
       "      <th>Nombre de mois de la période 16</th>\n",
       "      <th>Nombre de mois de la période 17</th>\n",
       "      <th>Chiffre d'Affaires 15</th>\n",
       "      <th>Chiffre d'Affaires 16</th>\n",
       "      <th>Evolution du Chiffre d'Affaires 16</th>\n",
       "      <th>EBE(retraité des loyers de leasing) 15</th>\n",
       "      <th>...</th>\n",
       "      <th>Fonds Propres / Total Bilan 16</th>\n",
       "      <th>Dettes Nettes / EBE(* années) 15</th>\n",
       "      <th>Dettes Nettes / EBE(* années) 16</th>\n",
       "      <th>Dettes Nettes / Fonds propres 15</th>\n",
       "      <th>Dettes Nettes / Fonds propres 16</th>\n",
       "      <th>Risque__A</th>\n",
       "      <th>Risque__A+</th>\n",
       "      <th>Risque__B</th>\n",
       "      <th>Risque__B+</th>\n",
       "      <th>Risque__C</th>\n",
       "    </tr>\n",
       "  </thead>\n",
       "  <tbody>\n",
       "    <tr>\n",
       "      <th>130</th>\n",
       "      <td>36.0</td>\n",
       "      <td>5000000.0</td>\n",
       "      <td>50000000.0</td>\n",
       "      <td>50.0</td>\n",
       "      <td>NaN</td>\n",
       "      <td>12.0</td>\n",
       "      <td>NaN</td>\n",
       "      <td>14822.0</td>\n",
       "      <td>322.88</td>\n",
       "      <td>NaN</td>\n",
       "      <td>...</td>\n",
       "      <td>NaN</td>\n",
       "      <td>NaN</td>\n",
       "      <td>NaN</td>\n",
       "      <td>NaN</td>\n",
       "      <td>NaN</td>\n",
       "      <td>0.0</td>\n",
       "      <td>1.0</td>\n",
       "      <td>0.0</td>\n",
       "      <td>0.0</td>\n",
       "      <td>0.0</td>\n",
       "    </tr>\n",
       "    <tr>\n",
       "      <th>221</th>\n",
       "      <td>60.0</td>\n",
       "      <td>3600000.0</td>\n",
       "      <td>5036227.0</td>\n",
       "      <td>2000.0</td>\n",
       "      <td>12.0</td>\n",
       "      <td>12.0</td>\n",
       "      <td>181828.0</td>\n",
       "      <td>521.0</td>\n",
       "      <td>120.76</td>\n",
       "      <td>5.0</td>\n",
       "      <td>...</td>\n",
       "      <td>62.17</td>\n",
       "      <td>3.68</td>\n",
       "      <td>0.96</td>\n",
       "      <td>41.96</td>\n",
       "      <td>10.91</td>\n",
       "      <td>1.0</td>\n",
       "      <td>0.0</td>\n",
       "      <td>0.0</td>\n",
       "      <td>0.0</td>\n",
       "      <td>0.0</td>\n",
       "    </tr>\n",
       "    <tr>\n",
       "      <th>505</th>\n",
       "      <td>60.0</td>\n",
       "      <td>3500000.0</td>\n",
       "      <td>196244.0</td>\n",
       "      <td>250.0</td>\n",
       "      <td>12.0</td>\n",
       "      <td>NaN</td>\n",
       "      <td>20498.0</td>\n",
       "      <td>28705.0</td>\n",
       "      <td>40.04</td>\n",
       "      <td>3.0</td>\n",
       "      <td>...</td>\n",
       "      <td>42.41</td>\n",
       "      <td>0.40</td>\n",
       "      <td>0.38</td>\n",
       "      <td>58.64</td>\n",
       "      <td>57.93</td>\n",
       "      <td>1.0</td>\n",
       "      <td>0.0</td>\n",
       "      <td>0.0</td>\n",
       "      <td>0.0</td>\n",
       "      <td>0.0</td>\n",
       "    </tr>\n",
       "    <tr>\n",
       "      <th>611</th>\n",
       "      <td>39.0</td>\n",
       "      <td>3150000.0</td>\n",
       "      <td>3517500.0</td>\n",
       "      <td>50.0</td>\n",
       "      <td>NaN</td>\n",
       "      <td>NaN</td>\n",
       "      <td>43788.0</td>\n",
       "      <td>30012.0</td>\n",
       "      <td>31.46</td>\n",
       "      <td>5.0</td>\n",
       "      <td>...</td>\n",
       "      <td>27.24</td>\n",
       "      <td>NaN</td>\n",
       "      <td>NaN</td>\n",
       "      <td>72.10</td>\n",
       "      <td>96.05</td>\n",
       "      <td>1.0</td>\n",
       "      <td>0.0</td>\n",
       "      <td>0.0</td>\n",
       "      <td>0.0</td>\n",
       "      <td>0.0</td>\n",
       "    </tr>\n",
       "    <tr>\n",
       "      <th>284</th>\n",
       "      <td>84.0</td>\n",
       "      <td>3100000.0</td>\n",
       "      <td>4000000.0</td>\n",
       "      <td>1000.0</td>\n",
       "      <td>NaN</td>\n",
       "      <td>NaN</td>\n",
       "      <td>31693.0</td>\n",
       "      <td>54969.0</td>\n",
       "      <td>73.44</td>\n",
       "      <td>25.0</td>\n",
       "      <td>...</td>\n",
       "      <td>28.67</td>\n",
       "      <td>1.84</td>\n",
       "      <td>1.63</td>\n",
       "      <td>144.04</td>\n",
       "      <td>117.08</td>\n",
       "      <td>1.0</td>\n",
       "      <td>0.0</td>\n",
       "      <td>0.0</td>\n",
       "      <td>0.0</td>\n",
       "      <td>0.0</td>\n",
       "    </tr>\n",
       "  </tbody>\n",
       "</table>\n",
       "<p>5 rows × 30 columns</p>\n",
       "</div>"
      ],
      "text/plain": [
       "     Mois    Montant  capital social  effectifs  \\\n",
       "130  36.0  5000000.0      50000000.0       50.0   \n",
       "221  60.0  3600000.0       5036227.0     2000.0   \n",
       "505  60.0  3500000.0        196244.0      250.0   \n",
       "611  39.0  3150000.0       3517500.0       50.0   \n",
       "284  84.0  3100000.0       4000000.0     1000.0   \n",
       "\n",
       "     Nombre de mois de la période 16  Nombre de mois de la période 17  \\\n",
       "130                              NaN                             12.0   \n",
       "221                             12.0                             12.0   \n",
       "505                             12.0                              NaN   \n",
       "611                              NaN                              NaN   \n",
       "284                              NaN                              NaN   \n",
       "\n",
       "     Chiffre d'Affaires 15  Chiffre d'Affaires 16  \\\n",
       "130                    NaN                14822.0   \n",
       "221               181828.0                  521.0   \n",
       "505                20498.0                28705.0   \n",
       "611                43788.0                30012.0   \n",
       "284                31693.0                54969.0   \n",
       "\n",
       "     Evolution du Chiffre d'Affaires 16  \\\n",
       "130                              322.88   \n",
       "221                              120.76   \n",
       "505                               40.04   \n",
       "611                               31.46   \n",
       "284                               73.44   \n",
       "\n",
       "     EBE(retraité des loyers de leasing) 15  ...  \\\n",
       "130                                     NaN  ...   \n",
       "221                                     5.0  ...   \n",
       "505                                     3.0  ...   \n",
       "611                                     5.0  ...   \n",
       "284                                    25.0  ...   \n",
       "\n",
       "     Fonds Propres / Total Bilan 16  Dettes Nettes / EBE(* années) 15  \\\n",
       "130                             NaN                               NaN   \n",
       "221                           62.17                              3.68   \n",
       "505                           42.41                              0.40   \n",
       "611                           27.24                               NaN   \n",
       "284                           28.67                              1.84   \n",
       "\n",
       "     Dettes Nettes / EBE(* années) 16  Dettes Nettes / Fonds propres 15  \\\n",
       "130                               NaN                               NaN   \n",
       "221                              0.96                             41.96   \n",
       "505                              0.38                             58.64   \n",
       "611                               NaN                             72.10   \n",
       "284                              1.63                            144.04   \n",
       "\n",
       "     Dettes Nettes / Fonds propres 16  Risque__A  Risque__A+  Risque__B  \\\n",
       "130                               NaN        0.0         1.0        0.0   \n",
       "221                             10.91        1.0         0.0        0.0   \n",
       "505                             57.93        1.0         0.0        0.0   \n",
       "611                             96.05        1.0         0.0        0.0   \n",
       "284                            117.08        1.0         0.0        0.0   \n",
       "\n",
       "     Risque__B+  Risque__C  \n",
       "130         0.0        0.0  \n",
       "221         0.0        0.0  \n",
       "505         0.0        0.0  \n",
       "611         0.0        0.0  \n",
       "284         0.0        0.0  \n",
       "\n",
       "[5 rows x 30 columns]"
      ]
     },
     "execution_count": 25,
     "metadata": {},
     "output_type": "execute_result"
    }
   ],
   "source": [
    "box_plot(X, 'Montant').sort_values(by = 'Montant', ascending  = False).head()"
   ]
  },
  {
   "cell_type": "markdown",
   "id": "b3a2961e-4986-4c50-95ac-0664381ae02c",
   "metadata": {},
   "source": [
    "A right skewed distribution with outliers in our right.\n",
    "\n",
    "We have 70 outliers for this feature what is a too much for a small dataset like ours. Our minimum outlier is 1_500_000 and the maximum is 5_000_000.\n",
    "\n",
    "If we look closely to the data entries, we can see that this could make sense, we can see that Montant varies with invoice, debts and so on, all this values seem reasonable, we will keep them. The largest outlier with the biggest social capital, one of the greatest invoice evolutions during 2016."
   ]
  },
  {
   "cell_type": "markdown",
   "id": "786a4983-359b-48e6-8886-23eee9efd0a6",
   "metadata": {},
   "source": [
    "##### 2.2.1.2 Effectifs"
   ]
  },
  {
   "cell_type": "code",
   "execution_count": 26,
   "id": "3a5d584b-6ad8-42cf-b00a-30641a9bdd0d",
   "metadata": {
    "tags": []
   },
   "outputs": [
    {
     "data": {
      "image/png": "[encoded data removed]",
      "text/plain": [
       "<Figure size 432x288 with 1 Axes>"
      ]
     },
     "metadata": {
      "needs_background": "light"
     },
     "output_type": "display_data"
    },
    {
     "data": {
      "text/html": [
       "<div>\n",
       "<style scoped>\n",
       "    .dataframe tbody tr th:only-of-type {\n",
       "        vertical-align: middle;\n",
       "    }\n",
       "\n",
       "    .dataframe tbody tr th {\n",
       "        vertical-align: top;\n",
       "    }\n",
       "\n",
       "    .dataframe thead th {\n",
       "        text-align: right;\n",
       "    }\n",
       "</style>\n",
       "<table border=\"1\" class=\"dataframe\">\n",
       "  <thead>\n",
       "    <tr style=\"text-align: right;\">\n",
       "      <th></th>\n",
       "      <th>Mois</th>\n",
       "      <th>Montant</th>\n",
       "      <th>capital social</th>\n",
       "      <th>effectifs</th>\n",
       "      <th>Nombre de mois de la période 16</th>\n",
       "      <th>Nombre de mois de la période 17</th>\n",
       "      <th>Chiffre d'Affaires 15</th>\n",
       "      <th>Chiffre d'Affaires 16</th>\n",
       "      <th>Evolution du Chiffre d'Affaires 16</th>\n",
       "      <th>EBE(retraité des loyers de leasing) 15</th>\n",
       "      <th>...</th>\n",
       "      <th>Fonds Propres / Total Bilan 16</th>\n",
       "      <th>Dettes Nettes / EBE(* années) 15</th>\n",
       "      <th>Dettes Nettes / EBE(* années) 16</th>\n",
       "      <th>Dettes Nettes / Fonds propres 15</th>\n",
       "      <th>Dettes Nettes / Fonds propres 16</th>\n",
       "      <th>Risque__A</th>\n",
       "      <th>Risque__A+</th>\n",
       "      <th>Risque__B</th>\n",
       "      <th>Risque__B+</th>\n",
       "      <th>Risque__C</th>\n",
       "    </tr>\n",
       "  </thead>\n",
       "  <tbody>\n",
       "    <tr>\n",
       "      <th>3</th>\n",
       "      <td>60.0</td>\n",
       "      <td>2000000.0</td>\n",
       "      <td>10000.0</td>\n",
       "      <td>250.0</td>\n",
       "      <td>NaN</td>\n",
       "      <td>12.0</td>\n",
       "      <td>NaN</td>\n",
       "      <td>NaN</td>\n",
       "      <td>NaN</td>\n",
       "      <td>NaN</td>\n",
       "      <td>...</td>\n",
       "      <td>NaN</td>\n",
       "      <td>NaN</td>\n",
       "      <td>NaN</td>\n",
       "      <td>NaN</td>\n",
       "      <td>NaN</td>\n",
       "      <td>0.0</td>\n",
       "      <td>0.0</td>\n",
       "      <td>1.0</td>\n",
       "      <td>0.0</td>\n",
       "      <td>0.0</td>\n",
       "    </tr>\n",
       "    <tr>\n",
       "      <th>462</th>\n",
       "      <td>24.0</td>\n",
       "      <td>500000.0</td>\n",
       "      <td>2000000.0</td>\n",
       "      <td>250.0</td>\n",
       "      <td>12.0</td>\n",
       "      <td>12.0</td>\n",
       "      <td>60529.0</td>\n",
       "      <td>73061.0</td>\n",
       "      <td>20.70</td>\n",
       "      <td>1.0</td>\n",
       "      <td>...</td>\n",
       "      <td>30.48</td>\n",
       "      <td>1.34</td>\n",
       "      <td>1.84</td>\n",
       "      <td>0.62</td>\n",
       "      <td>0.75</td>\n",
       "      <td>0.0</td>\n",
       "      <td>0.0</td>\n",
       "      <td>0.0</td>\n",
       "      <td>1.0</td>\n",
       "      <td>0.0</td>\n",
       "    </tr>\n",
       "    <tr>\n",
       "      <th>457</th>\n",
       "      <td>36.0</td>\n",
       "      <td>150000.0</td>\n",
       "      <td>6900000.0</td>\n",
       "      <td>250.0</td>\n",
       "      <td>12.0</td>\n",
       "      <td>12.0</td>\n",
       "      <td>39767.0</td>\n",
       "      <td>30295.0</td>\n",
       "      <td>23.82</td>\n",
       "      <td>2.0</td>\n",
       "      <td>...</td>\n",
       "      <td>26.60</td>\n",
       "      <td>5.12</td>\n",
       "      <td>5.58</td>\n",
       "      <td>1.42</td>\n",
       "      <td>1.22</td>\n",
       "      <td>0.0</td>\n",
       "      <td>0.0</td>\n",
       "      <td>1.0</td>\n",
       "      <td>0.0</td>\n",
       "      <td>0.0</td>\n",
       "    </tr>\n",
       "    <tr>\n",
       "      <th>452</th>\n",
       "      <td>48.0</td>\n",
       "      <td>2000000.0</td>\n",
       "      <td>200000.0</td>\n",
       "      <td>250.0</td>\n",
       "      <td>12.0</td>\n",
       "      <td>12.0</td>\n",
       "      <td>58940.0</td>\n",
       "      <td>61340.0</td>\n",
       "      <td>4.07</td>\n",
       "      <td>8.0</td>\n",
       "      <td>...</td>\n",
       "      <td>19.65</td>\n",
       "      <td>2.37</td>\n",
       "      <td>2.52</td>\n",
       "      <td>1.35</td>\n",
       "      <td>1.50</td>\n",
       "      <td>0.0</td>\n",
       "      <td>0.0</td>\n",
       "      <td>1.0</td>\n",
       "      <td>0.0</td>\n",
       "      <td>0.0</td>\n",
       "    </tr>\n",
       "    <tr>\n",
       "      <th>451</th>\n",
       "      <td>60.0</td>\n",
       "      <td>2000000.0</td>\n",
       "      <td>2471215.0</td>\n",
       "      <td>250.0</td>\n",
       "      <td>12.0</td>\n",
       "      <td>12.0</td>\n",
       "      <td>29029.0</td>\n",
       "      <td>30946.0</td>\n",
       "      <td>6.60</td>\n",
       "      <td>3521.0</td>\n",
       "      <td>...</td>\n",
       "      <td>25.26</td>\n",
       "      <td>4.17</td>\n",
       "      <td>4.03</td>\n",
       "      <td>164.50</td>\n",
       "      <td>120.43</td>\n",
       "      <td>0.0</td>\n",
       "      <td>0.0</td>\n",
       "      <td>1.0</td>\n",
       "      <td>0.0</td>\n",
       "      <td>0.0</td>\n",
       "    </tr>\n",
       "  </tbody>\n",
       "</table>\n",
       "<p>5 rows × 30 columns</p>\n",
       "</div>"
      ],
      "text/plain": [
       "     Mois    Montant  capital social  effectifs  \\\n",
       "3    60.0  2000000.0         10000.0      250.0   \n",
       "462  24.0   500000.0       2000000.0      250.0   \n",
       "457  36.0   150000.0       6900000.0      250.0   \n",
       "452  48.0  2000000.0        200000.0      250.0   \n",
       "451  60.0  2000000.0       2471215.0      250.0   \n",
       "\n",
       "     Nombre de mois de la période 16  Nombre de mois de la période 17  \\\n",
       "3                                NaN                             12.0   \n",
       "462                             12.0                             12.0   \n",
       "457                             12.0                             12.0   \n",
       "452                             12.0                             12.0   \n",
       "451                             12.0                             12.0   \n",
       "\n",
       "     Chiffre d'Affaires 15  Chiffre d'Affaires 16  \\\n",
       "3                      NaN                    NaN   \n",
       "462                60529.0                73061.0   \n",
       "457                39767.0                30295.0   \n",
       "452                58940.0                61340.0   \n",
       "451                29029.0                30946.0   \n",
       "\n",
       "     Evolution du Chiffre d'Affaires 16  \\\n",
       "3                                   NaN   \n",
       "462                               20.70   \n",
       "457                               23.82   \n",
       "452                                4.07   \n",
       "451                                6.60   \n",
       "\n",
       "     EBE(retraité des loyers de leasing) 15  ...  \\\n",
       "3                                       NaN  ...   \n",
       "462                                     1.0  ...   \n",
       "457                                     2.0  ...   \n",
       "452                                     8.0  ...   \n",
       "451                                  3521.0  ...   \n",
       "\n",
       "     Fonds Propres / Total Bilan 16  Dettes Nettes / EBE(* années) 15  \\\n",
       "3                               NaN                               NaN   \n",
       "462                           30.48                              1.34   \n",
       "457                           26.60                              5.12   \n",
       "452                           19.65                              2.37   \n",
       "451                           25.26                              4.17   \n",
       "\n",
       "     Dettes Nettes / EBE(* années) 16  Dettes Nettes / Fonds propres 15  \\\n",
       "3                                 NaN                               NaN   \n",
       "462                              1.84                              0.62   \n",
       "457                              5.58                              1.42   \n",
       "452                              2.52                              1.35   \n",
       "451                              4.03                            164.50   \n",
       "\n",
       "     Dettes Nettes / Fonds propres 16  Risque__A  Risque__A+  Risque__B  \\\n",
       "3                                 NaN        0.0         0.0        1.0   \n",
       "462                              0.75        0.0         0.0        0.0   \n",
       "457                              1.22        0.0         0.0        1.0   \n",
       "452                              1.50        0.0         0.0        1.0   \n",
       "451                            120.43        0.0         0.0        1.0   \n",
       "\n",
       "     Risque__B+  Risque__C  \n",
       "3           0.0        0.0  \n",
       "462         1.0        0.0  \n",
       "457         0.0        0.0  \n",
       "452         0.0        0.0  \n",
       "451         0.0        0.0  \n",
       "\n",
       "[5 rows x 30 columns]"
      ]
     },
     "execution_count": 26,
     "metadata": {},
     "output_type": "execute_result"
    }
   ],
   "source": [
    "box_plot(X, 'effectifs').sort_values(by = 'effectifs').head()"
   ]
  },
  {
   "cell_type": "markdown",
   "id": "5d98e85a-8649-4edd-b04b-771a48d1309b",
   "metadata": {},
   "source": [
    "We have 152 outliers for this feature, the outliers are 250, 1000 and 2000 number of employees. A big portion of companies are small with a maximum of employees of 50, however removing information from our model that some of our clients are medium to large companies is not a good option. We will not replace/drop any outliers, they are reasonable enough to be part of our final dataset."
   ]
  },
  {
   "cell_type": "markdown",
   "id": "6b045501-236a-4a0a-91ae-a2817ab8e4ef",
   "metadata": {},
   "source": [
    "##### 2.2.1.3 Nombre de mois de la période 16 & Nombre de mois de la période 17"
   ]
  },
  {
   "cell_type": "code",
   "execution_count": 27,
   "id": "891e0f86-e904-4f55-989a-9d202c8e6a69",
   "metadata": {
    "tags": []
   },
   "outputs": [
    {
     "data": {
      "image/png": "[encoded data removed]",
      "text/plain": [
       "<Figure size 432x288 with 1 Axes>"
      ]
     },
     "metadata": {
      "needs_background": "light"
     },
     "output_type": "display_data"
    },
    {
     "data": {
      "text/html": [
       "<div>\n",
       "<style scoped>\n",
       "    .dataframe tbody tr th:only-of-type {\n",
       "        vertical-align: middle;\n",
       "    }\n",
       "\n",
       "    .dataframe tbody tr th {\n",
       "        vertical-align: top;\n",
       "    }\n",
       "\n",
       "    .dataframe thead th {\n",
       "        text-align: right;\n",
       "    }\n",
       "</style>\n",
       "<table border=\"1\" class=\"dataframe\">\n",
       "  <thead>\n",
       "    <tr style=\"text-align: right;\">\n",
       "      <th></th>\n",
       "      <th>Mois</th>\n",
       "      <th>Montant</th>\n",
       "      <th>capital social</th>\n",
       "      <th>effectifs</th>\n",
       "      <th>Nombre de mois de la période 16</th>\n",
       "      <th>Nombre de mois de la période 17</th>\n",
       "      <th>Chiffre d'Affaires 15</th>\n",
       "      <th>Chiffre d'Affaires 16</th>\n",
       "      <th>Evolution du Chiffre d'Affaires 16</th>\n",
       "      <th>EBE(retraité des loyers de leasing) 15</th>\n",
       "      <th>...</th>\n",
       "      <th>Fonds Propres / Total Bilan 16</th>\n",
       "      <th>Dettes Nettes / EBE(* années) 15</th>\n",
       "      <th>Dettes Nettes / EBE(* années) 16</th>\n",
       "      <th>Dettes Nettes / Fonds propres 15</th>\n",
       "      <th>Dettes Nettes / Fonds propres 16</th>\n",
       "      <th>Risque__A</th>\n",
       "      <th>Risque__A+</th>\n",
       "      <th>Risque__B</th>\n",
       "      <th>Risque__B+</th>\n",
       "      <th>Risque__C</th>\n",
       "    </tr>\n",
       "  </thead>\n",
       "  <tbody>\n",
       "    <tr>\n",
       "      <th>151</th>\n",
       "      <td>48.0</td>\n",
       "      <td>250000.0</td>\n",
       "      <td>692000.0</td>\n",
       "      <td>50.0</td>\n",
       "      <td>6.0</td>\n",
       "      <td>12.0</td>\n",
       "      <td>NaN</td>\n",
       "      <td>1334.0</td>\n",
       "      <td>1.21</td>\n",
       "      <td>NaN</td>\n",
       "      <td>...</td>\n",
       "      <td>35.29</td>\n",
       "      <td>NaN</td>\n",
       "      <td>1.40</td>\n",
       "      <td>NaN</td>\n",
       "      <td>123.61</td>\n",
       "      <td>0.0</td>\n",
       "      <td>0.0</td>\n",
       "      <td>0.0</td>\n",
       "      <td>1.0</td>\n",
       "      <td>0.0</td>\n",
       "    </tr>\n",
       "    <tr>\n",
       "      <th>146</th>\n",
       "      <td>36.0</td>\n",
       "      <td>150000.0</td>\n",
       "      <td>150000.0</td>\n",
       "      <td>10.0</td>\n",
       "      <td>7.0</td>\n",
       "      <td>12.0</td>\n",
       "      <td>NaN</td>\n",
       "      <td>928.0</td>\n",
       "      <td>NaN</td>\n",
       "      <td>NaN</td>\n",
       "      <td>...</td>\n",
       "      <td>92.23</td>\n",
       "      <td>NaN</td>\n",
       "      <td>0.27</td>\n",
       "      <td>NaN</td>\n",
       "      <td>5.96</td>\n",
       "      <td>0.0</td>\n",
       "      <td>0.0</td>\n",
       "      <td>0.0</td>\n",
       "      <td>0.0</td>\n",
       "      <td>1.0</td>\n",
       "    </tr>\n",
       "    <tr>\n",
       "      <th>249</th>\n",
       "      <td>60.0</td>\n",
       "      <td>310000.0</td>\n",
       "      <td>75000.0</td>\n",
       "      <td>10.0</td>\n",
       "      <td>7.0</td>\n",
       "      <td>12.0</td>\n",
       "      <td>NaN</td>\n",
       "      <td>1597.0</td>\n",
       "      <td>20.71</td>\n",
       "      <td>NaN</td>\n",
       "      <td>...</td>\n",
       "      <td>18.75</td>\n",
       "      <td>NaN</td>\n",
       "      <td>1.86</td>\n",
       "      <td>NaN</td>\n",
       "      <td>205.13</td>\n",
       "      <td>0.0</td>\n",
       "      <td>0.0</td>\n",
       "      <td>1.0</td>\n",
       "      <td>0.0</td>\n",
       "      <td>0.0</td>\n",
       "    </tr>\n",
       "    <tr>\n",
       "      <th>598</th>\n",
       "      <td>36.0</td>\n",
       "      <td>30000.0</td>\n",
       "      <td>7622.0</td>\n",
       "      <td>50.0</td>\n",
       "      <td>8.0</td>\n",
       "      <td>12.0</td>\n",
       "      <td>NaN</td>\n",
       "      <td>304.0</td>\n",
       "      <td>1.33</td>\n",
       "      <td>NaN</td>\n",
       "      <td>...</td>\n",
       "      <td>14.98</td>\n",
       "      <td>NaN</td>\n",
       "      <td>0.22</td>\n",
       "      <td>NaN</td>\n",
       "      <td>30.98</td>\n",
       "      <td>0.0</td>\n",
       "      <td>0.0</td>\n",
       "      <td>0.0</td>\n",
       "      <td>1.0</td>\n",
       "      <td>0.0</td>\n",
       "    </tr>\n",
       "    <tr>\n",
       "      <th>168</th>\n",
       "      <td>24.0</td>\n",
       "      <td>100000.0</td>\n",
       "      <td>36498182.0</td>\n",
       "      <td>2000.0</td>\n",
       "      <td>9.5</td>\n",
       "      <td>12.0</td>\n",
       "      <td>NaN</td>\n",
       "      <td>4722.0</td>\n",
       "      <td>6.98</td>\n",
       "      <td>NaN</td>\n",
       "      <td>...</td>\n",
       "      <td>35.27</td>\n",
       "      <td>NaN</td>\n",
       "      <td>NaN</td>\n",
       "      <td>NaN</td>\n",
       "      <td>109.80</td>\n",
       "      <td>0.0</td>\n",
       "      <td>1.0</td>\n",
       "      <td>0.0</td>\n",
       "      <td>0.0</td>\n",
       "      <td>0.0</td>\n",
       "    </tr>\n",
       "  </tbody>\n",
       "</table>\n",
       "<p>5 rows × 30 columns</p>\n",
       "</div>"
      ],
      "text/plain": [
       "     Mois   Montant  capital social  effectifs  \\\n",
       "151  48.0  250000.0        692000.0       50.0   \n",
       "146  36.0  150000.0        150000.0       10.0   \n",
       "249  60.0  310000.0         75000.0       10.0   \n",
       "598  36.0   30000.0          7622.0       50.0   \n",
       "168  24.0  100000.0      36498182.0     2000.0   \n",
       "\n",
       "     Nombre de mois de la période 16  Nombre de mois de la période 17  \\\n",
       "151                              6.0                             12.0   \n",
       "146                              7.0                             12.0   \n",
       "249                              7.0                             12.0   \n",
       "598                              8.0                             12.0   \n",
       "168                              9.5                             12.0   \n",
       "\n",
       "     Chiffre d'Affaires 15  Chiffre d'Affaires 16  \\\n",
       "151                    NaN                 1334.0   \n",
       "146                    NaN                  928.0   \n",
       "249                    NaN                 1597.0   \n",
       "598                    NaN                  304.0   \n",
       "168                    NaN                 4722.0   \n",
       "\n",
       "     Evolution du Chiffre d'Affaires 16  \\\n",
       "151                                1.21   \n",
       "146                                 NaN   \n",
       "249                               20.71   \n",
       "598                                1.33   \n",
       "168                                6.98   \n",
       "\n",
       "     EBE(retraité des loyers de leasing) 15  ...  \\\n",
       "151                                     NaN  ...   \n",
       "146                                     NaN  ...   \n",
       "249                                     NaN  ...   \n",
       "598                                     NaN  ...   \n",
       "168                                     NaN  ...   \n",
       "\n",
       "     Fonds Propres / Total Bilan 16  Dettes Nettes / EBE(* années) 15  \\\n",
       "151                           35.29                               NaN   \n",
       "146                           92.23                               NaN   \n",
       "249                           18.75                               NaN   \n",
       "598                           14.98                               NaN   \n",
       "168                           35.27                               NaN   \n",
       "\n",
       "     Dettes Nettes / EBE(* années) 16  Dettes Nettes / Fonds propres 15  \\\n",
       "151                              1.40                               NaN   \n",
       "146                              0.27                               NaN   \n",
       "249                              1.86                               NaN   \n",
       "598                              0.22                               NaN   \n",
       "168                               NaN                               NaN   \n",
       "\n",
       "     Dettes Nettes / Fonds propres 16  Risque__A  Risque__A+  Risque__B  \\\n",
       "151                            123.61        0.0         0.0        0.0   \n",
       "146                              5.96        0.0         0.0        0.0   \n",
       "249                            205.13        0.0         0.0        1.0   \n",
       "598                             30.98        0.0         0.0        0.0   \n",
       "168                            109.80        0.0         1.0        0.0   \n",
       "\n",
       "     Risque__B+  Risque__C  \n",
       "151         1.0        0.0  \n",
       "146         0.0        1.0  \n",
       "249         0.0        0.0  \n",
       "598         1.0        0.0  \n",
       "168         0.0        0.0  \n",
       "\n",
       "[5 rows x 30 columns]"
      ]
     },
     "execution_count": 27,
     "metadata": {},
     "output_type": "execute_result"
    }
   ],
   "source": [
    "box_plot(X, 'Nombre de mois de la période 16').sort_values(by = 'Nombre de mois de la période 16').head()"
   ]
  },
  {
   "cell_type": "markdown",
   "id": "16c3aad8-be50-471e-9559-af99e6a9a25a",
   "metadata": {},
   "source": [
    "In both columns we can only have values up to 12 (maximum number of months in an year). Every value above 12 will be replaced by the maximum admissible, 12."
   ]
  },
  {
   "cell_type": "code",
   "execution_count": 28,
   "id": "c1ec7a05-dbe3-43bb-9a21-fffbb61c845b",
   "metadata": {},
   "outputs": [],
   "source": [
    "df[\"Nombre de mois de la période 16\"] = np.where(df[\"Nombre de mois de la période 16\"] >12, 12,df['Nombre de mois de la période 16'])\n",
    "df[\"Nombre de mois de la période 17\"] = np.where(df[\"Nombre de mois de la période 17\"] >12, 12,df['Nombre de mois de la période 17'])"
   ]
  },
  {
   "cell_type": "markdown",
   "id": "54116c3a-7e41-4d8e-abe4-1958d3406620",
   "metadata": {},
   "source": [
    "##### 2.2.1.4 Chiffre d'Affaires 15 & Chiffre d'Affaires 16"
   ]
  },
  {
   "cell_type": "code",
   "execution_count": 29,
   "id": "8ac593d4-3073-4e16-a397-c3e070fa5ab5",
   "metadata": {
    "tags": []
   },
   "outputs": [
    {
     "data": {
      "image/png": "[encoded data removed]",
      "text/plain": [
       "<Figure size 432x288 with 1 Axes>"
      ]
     },
     "metadata": {
      "needs_background": "light"
     },
     "output_type": "display_data"
    },
    {
     "data": {
      "text/html": [
       "<div>\n",
       "<style scoped>\n",
       "    .dataframe tbody tr th:only-of-type {\n",
       "        vertical-align: middle;\n",
       "    }\n",
       "\n",
       "    .dataframe tbody tr th {\n",
       "        vertical-align: top;\n",
       "    }\n",
       "\n",
       "    .dataframe thead th {\n",
       "        text-align: right;\n",
       "    }\n",
       "</style>\n",
       "<table border=\"1\" class=\"dataframe\">\n",
       "  <thead>\n",
       "    <tr style=\"text-align: right;\">\n",
       "      <th></th>\n",
       "      <th>Mois</th>\n",
       "      <th>Montant</th>\n",
       "      <th>capital social</th>\n",
       "      <th>effectifs</th>\n",
       "      <th>Nombre de mois de la période 16</th>\n",
       "      <th>Nombre de mois de la période 17</th>\n",
       "      <th>Chiffre d'Affaires 15</th>\n",
       "      <th>Chiffre d'Affaires 16</th>\n",
       "      <th>Evolution du Chiffre d'Affaires 16</th>\n",
       "      <th>EBE(retraité des loyers de leasing) 15</th>\n",
       "      <th>...</th>\n",
       "      <th>Fonds Propres / Total Bilan 16</th>\n",
       "      <th>Dettes Nettes / EBE(* années) 15</th>\n",
       "      <th>Dettes Nettes / EBE(* années) 16</th>\n",
       "      <th>Dettes Nettes / Fonds propres 15</th>\n",
       "      <th>Dettes Nettes / Fonds propres 16</th>\n",
       "      <th>Risque__A</th>\n",
       "      <th>Risque__A+</th>\n",
       "      <th>Risque__B</th>\n",
       "      <th>Risque__B+</th>\n",
       "      <th>Risque__C</th>\n",
       "    </tr>\n",
       "  </thead>\n",
       "  <tbody>\n",
       "    <tr>\n",
       "      <th>221</th>\n",
       "      <td>60.0</td>\n",
       "      <td>3600000.0</td>\n",
       "      <td>5036227.0</td>\n",
       "      <td>2000.0</td>\n",
       "      <td>12.0</td>\n",
       "      <td>12.0</td>\n",
       "      <td>181828.0</td>\n",
       "      <td>521.0</td>\n",
       "      <td>120.76</td>\n",
       "      <td>5.0</td>\n",
       "      <td>...</td>\n",
       "      <td>62.17</td>\n",
       "      <td>3.68</td>\n",
       "      <td>0.96</td>\n",
       "      <td>41.96</td>\n",
       "      <td>10.91</td>\n",
       "      <td>1.0</td>\n",
       "      <td>0.0</td>\n",
       "      <td>0.0</td>\n",
       "      <td>0.0</td>\n",
       "      <td>0.0</td>\n",
       "    </tr>\n",
       "    <tr>\n",
       "      <th>506</th>\n",
       "      <td>36.0</td>\n",
       "      <td>1100000.0</td>\n",
       "      <td>32040000.0</td>\n",
       "      <td>1000.0</td>\n",
       "      <td>12.0</td>\n",
       "      <td>NaN</td>\n",
       "      <td>204762.0</td>\n",
       "      <td>206879.0</td>\n",
       "      <td>1.03</td>\n",
       "      <td>22.0</td>\n",
       "      <td>...</td>\n",
       "      <td>54.32</td>\n",
       "      <td>4.60</td>\n",
       "      <td>3.20</td>\n",
       "      <td>0.63</td>\n",
       "      <td>0.51</td>\n",
       "      <td>0.0</td>\n",
       "      <td>0.0</td>\n",
       "      <td>0.0</td>\n",
       "      <td>1.0</td>\n",
       "      <td>0.0</td>\n",
       "    </tr>\n",
       "    <tr>\n",
       "      <th>617</th>\n",
       "      <td>84.0</td>\n",
       "      <td>3050000.0</td>\n",
       "      <td>1500.0</td>\n",
       "      <td>10.0</td>\n",
       "      <td>12.0</td>\n",
       "      <td>NaN</td>\n",
       "      <td>225892.0</td>\n",
       "      <td>290225.0</td>\n",
       "      <td>28.48</td>\n",
       "      <td>0.0</td>\n",
       "      <td>...</td>\n",
       "      <td>13.70</td>\n",
       "      <td>0.32</td>\n",
       "      <td>1.51</td>\n",
       "      <td>5.57</td>\n",
       "      <td>29.41</td>\n",
       "      <td>1.0</td>\n",
       "      <td>0.0</td>\n",
       "      <td>0.0</td>\n",
       "      <td>0.0</td>\n",
       "      <td>0.0</td>\n",
       "    </tr>\n",
       "    <tr>\n",
       "      <th>200</th>\n",
       "      <td>36.0</td>\n",
       "      <td>820000.0</td>\n",
       "      <td>7398515.0</td>\n",
       "      <td>1000.0</td>\n",
       "      <td>12.0</td>\n",
       "      <td>12.0</td>\n",
       "      <td>225892.0</td>\n",
       "      <td>313.0</td>\n",
       "      <td>144.53</td>\n",
       "      <td>0.0</td>\n",
       "      <td>...</td>\n",
       "      <td>13.70</td>\n",
       "      <td>0.32</td>\n",
       "      <td>1.51</td>\n",
       "      <td>5.57</td>\n",
       "      <td>29.41</td>\n",
       "      <td>0.0</td>\n",
       "      <td>0.0</td>\n",
       "      <td>0.0</td>\n",
       "      <td>1.0</td>\n",
       "      <td>0.0</td>\n",
       "    </tr>\n",
       "    <tr>\n",
       "      <th>186</th>\n",
       "      <td>36.0</td>\n",
       "      <td>1500000.0</td>\n",
       "      <td>11000000.0</td>\n",
       "      <td>250.0</td>\n",
       "      <td>12.0</td>\n",
       "      <td>12.0</td>\n",
       "      <td>323400.0</td>\n",
       "      <td>827.0</td>\n",
       "      <td>11.36</td>\n",
       "      <td>0.0</td>\n",
       "      <td>...</td>\n",
       "      <td>33.50</td>\n",
       "      <td>2.97</td>\n",
       "      <td>3.10</td>\n",
       "      <td>18.68</td>\n",
       "      <td>29.25</td>\n",
       "      <td>0.0</td>\n",
       "      <td>0.0</td>\n",
       "      <td>0.0</td>\n",
       "      <td>1.0</td>\n",
       "      <td>0.0</td>\n",
       "    </tr>\n",
       "  </tbody>\n",
       "</table>\n",
       "<p>5 rows × 30 columns</p>\n",
       "</div>"
      ],
      "text/plain": [
       "     Mois    Montant  capital social  effectifs  \\\n",
       "221  60.0  3600000.0       5036227.0     2000.0   \n",
       "506  36.0  1100000.0      32040000.0     1000.0   \n",
       "617  84.0  3050000.0          1500.0       10.0   \n",
       "200  36.0   820000.0       7398515.0     1000.0   \n",
       "186  36.0  1500000.0      11000000.0      250.0   \n",
       "\n",
       "     Nombre de mois de la période 16  Nombre de mois de la période 17  \\\n",
       "221                             12.0                             12.0   \n",
       "506                             12.0                              NaN   \n",
       "617                             12.0                              NaN   \n",
       "200                             12.0                             12.0   \n",
       "186                             12.0                             12.0   \n",
       "\n",
       "     Chiffre d'Affaires 15  Chiffre d'Affaires 16  \\\n",
       "221               181828.0                  521.0   \n",
       "506               204762.0               206879.0   \n",
       "617               225892.0               290225.0   \n",
       "200               225892.0                  313.0   \n",
       "186               323400.0                  827.0   \n",
       "\n",
       "     Evolution du Chiffre d'Affaires 16  \\\n",
       "221                              120.76   \n",
       "506                                1.03   \n",
       "617                               28.48   \n",
       "200                              144.53   \n",
       "186                               11.36   \n",
       "\n",
       "     EBE(retraité des loyers de leasing) 15  ...  \\\n",
       "221                                     5.0  ...   \n",
       "506                                    22.0  ...   \n",
       "617                                     0.0  ...   \n",
       "200                                     0.0  ...   \n",
       "186                                     0.0  ...   \n",
       "\n",
       "     Fonds Propres / Total Bilan 16  Dettes Nettes / EBE(* années) 15  \\\n",
       "221                           62.17                              3.68   \n",
       "506                           54.32                              4.60   \n",
       "617                           13.70                              0.32   \n",
       "200                           13.70                              0.32   \n",
       "186                           33.50                              2.97   \n",
       "\n",
       "     Dettes Nettes / EBE(* années) 16  Dettes Nettes / Fonds propres 15  \\\n",
       "221                              0.96                             41.96   \n",
       "506                              3.20                              0.63   \n",
       "617                              1.51                              5.57   \n",
       "200                              1.51                              5.57   \n",
       "186                              3.10                             18.68   \n",
       "\n",
       "     Dettes Nettes / Fonds propres 16  Risque__A  Risque__A+  Risque__B  \\\n",
       "221                             10.91        1.0         0.0        0.0   \n",
       "506                              0.51        0.0         0.0        0.0   \n",
       "617                             29.41        1.0         0.0        0.0   \n",
       "200                             29.41        0.0         0.0        0.0   \n",
       "186                             29.25        0.0         0.0        0.0   \n",
       "\n",
       "     Risque__B+  Risque__C  \n",
       "221         0.0        0.0  \n",
       "506         1.0        0.0  \n",
       "617         0.0        0.0  \n",
       "200         1.0        0.0  \n",
       "186         1.0        0.0  \n",
       "\n",
       "[5 rows x 30 columns]"
      ]
     },
     "execution_count": 29,
     "metadata": {},
     "output_type": "execute_result"
    }
   ],
   "source": [
    "box_plot(X, \"Chiffre d'Affaires 15\").sort_values(by = \"Chiffre d'Affaires 15\").tail()"
   ]
  },
  {
   "cell_type": "code",
   "execution_count": 30,
   "id": "7335923b-a40b-4ce2-b342-204222ce9974",
   "metadata": {
    "tags": []
   },
   "outputs": [
    {
     "data": {
      "image/png": "[encoded data removed]",
      "text/plain": [
       "<Figure size 432x288 with 1 Axes>"
      ]
     },
     "metadata": {
      "needs_background": "light"
     },
     "output_type": "display_data"
    },
    {
     "data": {
      "text/html": [
       "<div>\n",
       "<style scoped>\n",
       "    .dataframe tbody tr th:only-of-type {\n",
       "        vertical-align: middle;\n",
       "    }\n",
       "\n",
       "    .dataframe tbody tr th {\n",
       "        vertical-align: top;\n",
       "    }\n",
       "\n",
       "    .dataframe thead th {\n",
       "        text-align: right;\n",
       "    }\n",
       "</style>\n",
       "<table border=\"1\" class=\"dataframe\">\n",
       "  <thead>\n",
       "    <tr style=\"text-align: right;\">\n",
       "      <th></th>\n",
       "      <th>Mois</th>\n",
       "      <th>Montant</th>\n",
       "      <th>capital social</th>\n",
       "      <th>effectifs</th>\n",
       "      <th>Nombre de mois de la période 16</th>\n",
       "      <th>Nombre de mois de la période 17</th>\n",
       "      <th>Chiffre d'Affaires 15</th>\n",
       "      <th>Chiffre d'Affaires 16</th>\n",
       "      <th>Evolution du Chiffre d'Affaires 16</th>\n",
       "      <th>EBE(retraité des loyers de leasing) 15</th>\n",
       "      <th>...</th>\n",
       "      <th>Fonds Propres / Total Bilan 16</th>\n",
       "      <th>Dettes Nettes / EBE(* années) 15</th>\n",
       "      <th>Dettes Nettes / EBE(* années) 16</th>\n",
       "      <th>Dettes Nettes / Fonds propres 15</th>\n",
       "      <th>Dettes Nettes / Fonds propres 16</th>\n",
       "      <th>Risque__A</th>\n",
       "      <th>Risque__A+</th>\n",
       "      <th>Risque__B</th>\n",
       "      <th>Risque__B+</th>\n",
       "      <th>Risque__C</th>\n",
       "    </tr>\n",
       "  </thead>\n",
       "  <tbody>\n",
       "    <tr>\n",
       "      <th>208</th>\n",
       "      <td>60.0</td>\n",
       "      <td>198000.0</td>\n",
       "      <td>50000.0</td>\n",
       "      <td>50.0</td>\n",
       "      <td>12.0</td>\n",
       "      <td>NaN</td>\n",
       "      <td>939.0</td>\n",
       "      <td>262837.0</td>\n",
       "      <td>NaN</td>\n",
       "      <td>10.0</td>\n",
       "      <td>...</td>\n",
       "      <td>67.86</td>\n",
       "      <td>1.10</td>\n",
       "      <td>0.83</td>\n",
       "      <td>30.28</td>\n",
       "      <td>35.66</td>\n",
       "      <td>0.0</td>\n",
       "      <td>0.0</td>\n",
       "      <td>1.0</td>\n",
       "      <td>0.0</td>\n",
       "      <td>0.0</td>\n",
       "    </tr>\n",
       "    <tr>\n",
       "      <th>198</th>\n",
       "      <td>24.0</td>\n",
       "      <td>50000.0</td>\n",
       "      <td>10000.0</td>\n",
       "      <td>10.0</td>\n",
       "      <td>12.0</td>\n",
       "      <td>12.0</td>\n",
       "      <td>185.0</td>\n",
       "      <td>290225.0</td>\n",
       "      <td>28.48</td>\n",
       "      <td>40.0</td>\n",
       "      <td>...</td>\n",
       "      <td>16.97</td>\n",
       "      <td>0.45</td>\n",
       "      <td>0.41</td>\n",
       "      <td>149.00</td>\n",
       "      <td>85.33</td>\n",
       "      <td>0.0</td>\n",
       "      <td>0.0</td>\n",
       "      <td>0.0</td>\n",
       "      <td>0.0</td>\n",
       "      <td>1.0</td>\n",
       "    </tr>\n",
       "    <tr>\n",
       "      <th>617</th>\n",
       "      <td>84.0</td>\n",
       "      <td>3050000.0</td>\n",
       "      <td>1500.0</td>\n",
       "      <td>10.0</td>\n",
       "      <td>12.0</td>\n",
       "      <td>NaN</td>\n",
       "      <td>225892.0</td>\n",
       "      <td>290225.0</td>\n",
       "      <td>28.48</td>\n",
       "      <td>0.0</td>\n",
       "      <td>...</td>\n",
       "      <td>13.70</td>\n",
       "      <td>0.32</td>\n",
       "      <td>1.51</td>\n",
       "      <td>5.57</td>\n",
       "      <td>29.41</td>\n",
       "      <td>1.0</td>\n",
       "      <td>0.0</td>\n",
       "      <td>0.0</td>\n",
       "      <td>0.0</td>\n",
       "      <td>0.0</td>\n",
       "    </tr>\n",
       "    <tr>\n",
       "      <th>184</th>\n",
       "      <td>48.0</td>\n",
       "      <td>1759000.0</td>\n",
       "      <td>1360800.0</td>\n",
       "      <td>1000.0</td>\n",
       "      <td>12.0</td>\n",
       "      <td>12.0</td>\n",
       "      <td>37023.9</td>\n",
       "      <td>326650.0</td>\n",
       "      <td>0.01</td>\n",
       "      <td>5.0</td>\n",
       "      <td>...</td>\n",
       "      <td>44.67</td>\n",
       "      <td>2.60</td>\n",
       "      <td>3.01</td>\n",
       "      <td>58.10</td>\n",
       "      <td>58.80</td>\n",
       "      <td>0.0</td>\n",
       "      <td>0.0</td>\n",
       "      <td>1.0</td>\n",
       "      <td>0.0</td>\n",
       "      <td>0.0</td>\n",
       "    </tr>\n",
       "    <tr>\n",
       "      <th>69</th>\n",
       "      <td>24.0</td>\n",
       "      <td>100000.0</td>\n",
       "      <td>17609000.0</td>\n",
       "      <td>250.0</td>\n",
       "      <td>12.0</td>\n",
       "      <td>12.0</td>\n",
       "      <td>NaN</td>\n",
       "      <td>25328000.0</td>\n",
       "      <td>NaN</td>\n",
       "      <td>NaN</td>\n",
       "      <td>...</td>\n",
       "      <td>13.87</td>\n",
       "      <td>NaN</td>\n",
       "      <td>3.76</td>\n",
       "      <td>NaN</td>\n",
       "      <td>1.39</td>\n",
       "      <td>0.0</td>\n",
       "      <td>1.0</td>\n",
       "      <td>0.0</td>\n",
       "      <td>0.0</td>\n",
       "      <td>0.0</td>\n",
       "    </tr>\n",
       "  </tbody>\n",
       "</table>\n",
       "<p>5 rows × 30 columns</p>\n",
       "</div>"
      ],
      "text/plain": [
       "     Mois    Montant  capital social  effectifs  \\\n",
       "208  60.0   198000.0         50000.0       50.0   \n",
       "198  24.0    50000.0         10000.0       10.0   \n",
       "617  84.0  3050000.0          1500.0       10.0   \n",
       "184  48.0  1759000.0       1360800.0     1000.0   \n",
       "69   24.0   100000.0      17609000.0      250.0   \n",
       "\n",
       "     Nombre de mois de la période 16  Nombre de mois de la période 17  \\\n",
       "208                             12.0                              NaN   \n",
       "198                             12.0                             12.0   \n",
       "617                             12.0                              NaN   \n",
       "184                             12.0                             12.0   \n",
       "69                              12.0                             12.0   \n",
       "\n",
       "     Chiffre d'Affaires 15  Chiffre d'Affaires 16  \\\n",
       "208                  939.0               262837.0   \n",
       "198                  185.0               290225.0   \n",
       "617               225892.0               290225.0   \n",
       "184                37023.9               326650.0   \n",
       "69                     NaN             25328000.0   \n",
       "\n",
       "     Evolution du Chiffre d'Affaires 16  \\\n",
       "208                                 NaN   \n",
       "198                               28.48   \n",
       "617                               28.48   \n",
       "184                                0.01   \n",
       "69                                  NaN   \n",
       "\n",
       "     EBE(retraité des loyers de leasing) 15  ...  \\\n",
       "208                                    10.0  ...   \n",
       "198                                    40.0  ...   \n",
       "617                                     0.0  ...   \n",
       "184                                     5.0  ...   \n",
       "69                                      NaN  ...   \n",
       "\n",
       "     Fonds Propres / Total Bilan 16  Dettes Nettes / EBE(* années) 15  \\\n",
       "208                           67.86                              1.10   \n",
       "198                           16.97                              0.45   \n",
       "617                           13.70                              0.32   \n",
       "184                           44.67                              2.60   \n",
       "69                            13.87                               NaN   \n",
       "\n",
       "     Dettes Nettes / EBE(* années) 16  Dettes Nettes / Fonds propres 15  \\\n",
       "208                              0.83                             30.28   \n",
       "198                              0.41                            149.00   \n",
       "617                              1.51                              5.57   \n",
       "184                              3.01                             58.10   \n",
       "69                               3.76                               NaN   \n",
       "\n",
       "     Dettes Nettes / Fonds propres 16  Risque__A  Risque__A+  Risque__B  \\\n",
       "208                             35.66        0.0         0.0        1.0   \n",
       "198                             85.33        0.0         0.0        0.0   \n",
       "617                             29.41        1.0         0.0        0.0   \n",
       "184                             58.80        0.0         0.0        1.0   \n",
       "69                               1.39        0.0         1.0        0.0   \n",
       "\n",
       "     Risque__B+  Risque__C  \n",
       "208         0.0        0.0  \n",
       "198         0.0        1.0  \n",
       "617         0.0        0.0  \n",
       "184         0.0        0.0  \n",
       "69          0.0        0.0  \n",
       "\n",
       "[5 rows x 30 columns]"
      ]
     },
     "execution_count": 30,
     "metadata": {},
     "output_type": "execute_result"
    }
   ],
   "source": [
    "box_plot(X, \"Chiffre d'Affaires 16\").sort_values(by = \"Chiffre d'Affaires 16\").tail()"
   ]
  },
  {
   "cell_type": "markdown",
   "id": "c1430b74-31ec-4f88-b319-56d6fe4aa070",
   "metadata": {},
   "source": [
    "Both this columns represent the turnover in the 2015 & 2016. If we look closely, with just few exceptions, the pair wise values for each data entry  (2015 & 2016 columns) are close enough, meaning that it's not coincidence and they are not random. We will keep them too.\n",
    "\n",
    "The only value that we will replace is the entry 69 of \"Chiffre d'Affaires 16\" that is too different from the other outliers, that will be replaced for the the maximum value of our distribution."
   ]
  },
  {
   "cell_type": "code",
   "execution_count": 31,
   "id": "c71a6ee7-c5e1-4fc0-a262-2f264a197e1a",
   "metadata": {},
   "outputs": [],
   "source": [
    "max_column = df[\"Chiffre d'Affaires 16\"].quantile(0.75) + 1.5 * (df[\"Chiffre d'Affaires 16\"].quantile(0.75) - df[\"Chiffre d'Affaires 16\"].quantile(0.25))\n",
    "\n",
    "df[\"Chiffre d'Affaires 16\"] = np.where(df[\"Chiffre d'Affaires 16\"] == 25328000, max_column ,df[\"Chiffre d'Affaires 16\"])"
   ]
  },
  {
   "cell_type": "markdown",
   "id": "9669fe72-81a4-49ea-a6b7-32d605984ce4",
   "metadata": {},
   "source": [
    "##### 2.2.1.5 EBE(retraité des loyers de leasing) 15 & EBE(retraité des loyers de leasing) 16"
   ]
  },
  {
   "cell_type": "code",
   "execution_count": 32,
   "id": "7bbb5aa2-a97c-4597-89f9-7b34e2fb69f5",
   "metadata": {},
   "outputs": [],
   "source": [
    "def box_plot_1(df, column):\n",
    "    Q1 = df[column].quantile(0.25)\n",
    "    Q3 = df[column].quantile(0.75)\n",
    "    IQR = Q3 - Q1\n",
    "\n",
    "    return df[column][((df[column] < (Q1 - 1.5 * IQR)) |(df[column] > (Q3 + 1.5 * IQR)))]"
   ]
  },
  {
   "cell_type": "code",
   "execution_count": 33,
   "id": "8d04779f-eb10-45a4-9a28-26d0f4b7375f",
   "metadata": {
    "tags": []
   },
   "outputs": [
    {
     "data": {
      "text/plain": [
       "492      95.0\n",
       "681      97.0\n",
       "493     101.0\n",
       "450     102.0\n",
       "683     118.0\n",
       "        ...  \n",
       "463    1765.0\n",
       "101    2391.0\n",
       "121    3169.0\n",
       "451    3521.0\n",
       "465    7087.0\n",
       "Name: EBE(retraité des loyers de leasing) 15, Length: 79, dtype: float64"
      ]
     },
     "execution_count": 33,
     "metadata": {},
     "output_type": "execute_result"
    }
   ],
   "source": [
    "box_plot_1(X, \"EBE(retraité des loyers de leasing) 15\").sort_values()"
   ]
  },
  {
   "cell_type": "code",
   "execution_count": 34,
   "id": "619f363f-4d72-4ecb-8a65-39bc8bbdf734",
   "metadata": {
    "tags": []
   },
   "outputs": [
    {
     "data": {
      "text/plain": [
       "623     114.0\n",
       "486     121.0\n",
       "493     123.0\n",
       "94      128.0\n",
       "678     131.0\n",
       "        ...  \n",
       "86     2180.0\n",
       "121    3093.0\n",
       "451    3101.0\n",
       "101    4001.0\n",
       "465    9531.0\n",
       "Name: EBE(retraité des loyers de leasing) 16, Length: 101, dtype: float64"
      ]
     },
     "execution_count": 34,
     "metadata": {},
     "output_type": "execute_result"
    }
   ],
   "source": [
    "box_plot_1(X, \"EBE(retraité des loyers de leasing) 16\").sort_values()"
   ]
  },
  {
   "cell_type": "markdown",
   "id": "0fbb5438-6739-4e10-bbde-d8cabf66a1a8",
   "metadata": {},
   "source": [
    "Yet again, we have a big bunch of outliers in our dataset, however both this columns follow a pattern that we already seen. Most of the pair-wise outliers in one year column are in the other too. Introducing the sensation that again they are not at random and should consider it in our model."
   ]
  },
  {
   "cell_type": "markdown",
   "id": "b185c9de-6fe0-454e-ab73-556c15a3ab29",
   "metadata": {},
   "source": [
    "I will not include the other features in this project because the decision this will make this project too lengthy and no more changes were done.\n",
    "\n",
    "Nevertheless, I reinforce that knowing what each feature means, the outlier management would be better."
   ]
  },
  {
   "cell_type": "markdown",
   "id": "21901587-4930-4872-a4e9-8228f0655453",
   "metadata": {
    "tags": []
   },
   "source": [
    "### 2.3 - Data Predictors"
   ]
  },
  {
   "cell_type": "markdown",
   "id": "61652e58-eb78-4c5e-a976-ba3c0140c7cd",
   "metadata": {},
   "source": [
    "In this subchapter, we will try to understand a little bit more our dataset and try to understand which features may be the best predictors to our model."
   ]
  },
  {
   "cell_type": "markdown",
   "id": "75992f53-93ac-46c0-8eeb-f84cc3c93182",
   "metadata": {},
   "source": [
    "#### 2.3.1 - Niveau de Risque - Taux"
   ]
  },
  {
   "cell_type": "markdown",
   "id": "cd72e518-e05b-4817-a487-7cfa18314249",
   "metadata": {},
   "source": [
    "As suggested by the dataset supplier, after the loan is approved it is given a Risk Level, so we immediadetly think that Risk should be a good predictor to our loan interest.\n",
    "\n",
    "Below we can verify that loans vary with the risk the level for each company, with the best Risk Score companies being the ones with lower interest rate for the loans."
   ]
  },
  {
   "cell_type": "code",
   "execution_count": 35,
   "id": "7b44afd5-d113-4e30-8f11-bd41d1191b2c",
   "metadata": {
    "tags": []
   },
   "outputs": [
    {
     "data": {
      "image/png": "[encoded data removed]",
      "text/plain": [
       "<Figure size 432x288 with 1 Axes>"
      ]
     },
     "metadata": {
      "needs_background": "light"
     },
     "output_type": "display_data"
    }
   ],
   "source": [
    "sns.boxplot(y = df['Taux'], x = niveau_risque)\n",
    "plt.title('Niveau de Risque per Taux')\n",
    "plt.show()"
   ]
  },
  {
   "cell_type": "markdown",
   "id": "fa689e76-b2bb-4617-8120-380e919b7b43",
   "metadata": {
    "tags": []
   },
   "source": [
    "#### 2.3.2 - Effectifs - Taux"
   ]
  },
  {
   "cell_type": "code",
   "execution_count": 36,
   "id": "f683003c-e325-420c-a524-7364f777b3df",
   "metadata": {
    "tags": []
   },
   "outputs": [
    {
     "data": {
      "image/png": "[encoded data removed]",
      "text/plain": [
       "<Figure size 1080x504 with 1 Axes>"
      ]
     },
     "metadata": {},
     "output_type": "display_data"
    }
   ],
   "source": [
    "sns.set(rc={'figure.figsize':(15,7)})\n",
    "\n",
    "sns.boxplot(y = df['Taux'], x = df['effectifs'])\n",
    "plt.title('Taux evolution with Effectifs')\n",
    "plt.show()"
   ]
  },
  {
   "cell_type": "markdown",
   "id": "08653e7c-a3f1-4eb2-8b2b-be19e5b32adf",
   "metadata": {},
   "source": [
    "We can see that there is slight but gradual decline in the interest rates with the number of employees.\n",
    "\n",
    "This is not a strong predictor as Niveau de Risque, however it should be a predictor used by the model."
   ]
  },
  {
   "cell_type": "markdown",
   "id": "7057fcad-5d28-42f5-8e53-c8ea276b6761",
   "metadata": {
    "tags": []
   },
   "source": [
    "#### 2.3.3 - Number of Months - Taux"
   ]
  },
  {
   "cell_type": "code",
   "execution_count": 37,
   "id": "9fdc9c1c-0c79-4b92-b0ea-79e3fbd39ddf",
   "metadata": {},
   "outputs": [
    {
     "data": {
      "image/png": "[encoded data removed]",
      "text/plain": [
       "<Figure size 1080x504 with 1 Axes>"
      ]
     },
     "metadata": {},
     "output_type": "display_data"
    }
   ],
   "source": [
    "sns.set(rc={'figure.figsize':(15,7)})\n",
    "\n",
    "sns.boxplot(y = df['Taux'], x = df['Mois'])\n",
    "plt.title('Taux per Number of Months')\n",
    "plt.show()"
   ]
  },
  {
   "cell_type": "markdown",
   "id": "2687d8aa-dcc7-4cf9-8271-43d91f965dba",
   "metadata": {},
   "source": [
    "We have a gradual increase rates with the number of months (I'm not sure, but I will assume that this is the time of the loan).\n",
    "\n",
    "Yet again not that strong as Risque, but strong enough for me to believe that can be a good predictor for our model later on."
   ]
  },
  {
   "cell_type": "markdown",
   "id": "4087c7d0-fc5f-49cc-838c-0c92f5ca69e5",
   "metadata": {},
   "source": [
    "In the next chapter will have two objectives, outliers treatment & NaN treatment."
   ]
  },
  {
   "cell_type": "markdown",
   "id": "7d0efcb0-a628-44fe-8e30-810144b8f9f9",
   "metadata": {},
   "source": [
    "### 2.4 - Feature Engineering - Mois & Effectifs"
   ]
  },
  {
   "cell_type": "markdown",
   "id": "05f4b580-cf8b-450a-a436-62a0338cdb96",
   "metadata": {},
   "source": [
    "There are some features that have a discrepancy between magnitude distribution. Having some discrete variables such as number of months with just one entry for one class, others with 5, etc..., is not good information to our model, and we will not be able to generalize this information.\n",
    "\n",
    "So we will group our this variables into bin groups to enable a better read of our model."
   ]
  },
  {
   "cell_type": "code",
   "execution_count": 38,
   "id": "81ce5a44-0582-4c93-bfbd-d3ddd7772097",
   "metadata": {
    "tags": []
   },
   "outputs": [],
   "source": [
    "#Grouping data between bins of 12 or 24 months\n",
    "X['Mois'] = pd.cut(X['Mois'], labels = [0,1,2,3,4], bins = [0,24,36,48,60,84])\n",
    "\n",
    "#Group 1000 & 2000 as one group, group 3 will be companies with more than 1000 effectifs\n",
    "X['effectifs'] = pd.cut(X['effectifs'], labels = [0,1,2,3], bins = [0,10,50,250,2000])"
   ]
  },
  {
   "cell_type": "markdown",
   "id": "17d89fdd-1eb3-4a13-b866-8eacd317833b",
   "metadata": {},
   "source": [
    "We group the variables into ranges to allow the model to diferentiate and understand distances between data entries but at the same time don't lose that much information in the proccess."
   ]
  },
  {
   "cell_type": "markdown",
   "id": "88d1a21a-5e00-4629-84c1-ce22a962a1cb",
   "metadata": {},
   "source": [
    "### 2.5 - NaN Imputer"
   ]
  },
  {
   "cell_type": "markdown",
   "id": "db807cb8-49ab-443c-b250-b4fb363185e7",
   "metadata": {},
   "source": [
    "KNN imputer will be used to fill NaN values in our dataset. As we have features with more than 300 NaN values, imputing with some kind of distribution metric will introduce a tremendous bias in our model, that will not make our results any better. So we'll try to impute the values with the help of KNN imputer that will fill the NaN values with the mean values of the closest neighbours for that data NaN point\n",
    "\n",
    "We will use 5 neighbors to perform this imputation."
   ]
  },
  {
   "cell_type": "code",
   "execution_count": 39,
   "id": "61e3cc94-e4da-46e0-b7b0-60b146d5503f",
   "metadata": {},
   "outputs": [],
   "source": [
    "from sklearn.model_selection import train_test_split\n",
    "X_train, X_test, y_train, y_test = train_test_split(X, y, test_size = 0.2)"
   ]
  },
  {
   "cell_type": "code",
   "execution_count": 40,
   "id": "05a3977c-7201-4653-8b93-c6ed53b8ac15",
   "metadata": {},
   "outputs": [],
   "source": [
    "from sklearn.impute import KNNImputer\n",
    "\n",
    "imputer = KNNImputer(n_neighbors=3, weights = 'distance')\n",
    "\n",
    "#Fit and transform the X_train\n",
    "X_train = pd.DataFrame(imputer.fit_transform(X_train),columns = X_train.columns)\n",
    "\n",
    "#Transform the X_test to not introduce Bias in our model\n",
    "X_test = pd.DataFrame(imputer.transform(X_test),columns = X_test.columns)"
   ]
  },
  {
   "cell_type": "markdown",
   "id": "113daa47-a6fd-474e-8372-9f8cf50706bc",
   "metadata": {},
   "source": [
    "### 2.6 Anova Test - Number of features"
   ]
  },
  {
   "cell_type": "markdown",
   "id": "a6138d5f-041a-42b4-9569-9d8f36f92be7",
   "metadata": {},
   "source": [
    "We still have 31 features in our dataset, for 688 entries. This will still cause a lack of generalization of our model and a probable overfitting.\n",
    "\n",
    "With this in mind, we'll have to reduce our number of features right away.\n",
    "\n",
    "We will try to select only 15 features, to do this, we will perform an Anova Test for numeric variables to address if the independent variables have influence on the dependent variables or are just at random. This is done comparing the difference of means using the variance\n",
    "\n",
    "The features with lower influence will have a lower F_statistic values, a pvalue below the threshold of 0.05 that allows to reject the hypothesys that \n",
    "mean for different features are equal.\n",
    "\n",
    "We will try to reduce the number of features to 12, if the requirements are met."
   ]
  },
  {
   "cell_type": "code",
   "execution_count": 41,
   "id": "b49a2672-2b09-4ca0-8159-16caa3df5bbf",
   "metadata": {
    "tags": []
   },
   "outputs": [
    {
     "data": {
      "text/html": [
       "<div>\n",
       "<style scoped>\n",
       "    .dataframe tbody tr th:only-of-type {\n",
       "        vertical-align: middle;\n",
       "    }\n",
       "\n",
       "    .dataframe tbody tr th {\n",
       "        vertical-align: top;\n",
       "    }\n",
       "\n",
       "    .dataframe thead th {\n",
       "        text-align: right;\n",
       "    }\n",
       "</style>\n",
       "<table border=\"1\" class=\"dataframe\">\n",
       "  <thead>\n",
       "    <tr style=\"text-align: right;\">\n",
       "      <th></th>\n",
       "      <th>Feature</th>\n",
       "      <th>f_statistic_score</th>\n",
       "      <th>p_values</th>\n",
       "    </tr>\n",
       "  </thead>\n",
       "  <tbody>\n",
       "    <tr>\n",
       "      <th>0</th>\n",
       "      <td>Risque__A+</td>\n",
       "      <td>32.721040</td>\n",
       "      <td>0.0</td>\n",
       "    </tr>\n",
       "    <tr>\n",
       "      <th>1</th>\n",
       "      <td>Risque__C</td>\n",
       "      <td>11.587195</td>\n",
       "      <td>0.0</td>\n",
       "    </tr>\n",
       "    <tr>\n",
       "      <th>2</th>\n",
       "      <td>EBE(retraité des loyers de leasing) 16</td>\n",
       "      <td>10.022340</td>\n",
       "      <td>0.0</td>\n",
       "    </tr>\n",
       "    <tr>\n",
       "      <th>3</th>\n",
       "      <td>EBE(retraité des loyers de leasing) 15</td>\n",
       "      <td>7.745331</td>\n",
       "      <td>0.0</td>\n",
       "    </tr>\n",
       "    <tr>\n",
       "      <th>4</th>\n",
       "      <td>Capacité de remboursement (FCCR) 16</td>\n",
       "      <td>5.018214</td>\n",
       "      <td>0.0</td>\n",
       "    </tr>\n",
       "    <tr>\n",
       "      <th>5</th>\n",
       "      <td>Risque__B</td>\n",
       "      <td>4.757395</td>\n",
       "      <td>0.0</td>\n",
       "    </tr>\n",
       "    <tr>\n",
       "      <th>6</th>\n",
       "      <td>Risque__B+</td>\n",
       "      <td>3.853281</td>\n",
       "      <td>0.0</td>\n",
       "    </tr>\n",
       "    <tr>\n",
       "      <th>7</th>\n",
       "      <td>Mois</td>\n",
       "      <td>3.083171</td>\n",
       "      <td>0.0</td>\n",
       "    </tr>\n",
       "    <tr>\n",
       "      <th>8</th>\n",
       "      <td>capital social</td>\n",
       "      <td>2.988120</td>\n",
       "      <td>0.0</td>\n",
       "    </tr>\n",
       "    <tr>\n",
       "      <th>9</th>\n",
       "      <td>Fonds Propres 15</td>\n",
       "      <td>2.789371</td>\n",
       "      <td>0.0</td>\n",
       "    </tr>\n",
       "    <tr>\n",
       "      <th>10</th>\n",
       "      <td>Total Bilan 15</td>\n",
       "      <td>2.788526</td>\n",
       "      <td>0.0</td>\n",
       "    </tr>\n",
       "    <tr>\n",
       "      <th>11</th>\n",
       "      <td>Risque__A</td>\n",
       "      <td>2.787193</td>\n",
       "      <td>0.0</td>\n",
       "    </tr>\n",
       "  </tbody>\n",
       "</table>\n",
       "</div>"
      ],
      "text/plain": [
       "                                   Feature  f_statistic_score  p_values\n",
       "0                               Risque__A+          32.721040       0.0\n",
       "1                                Risque__C          11.587195       0.0\n",
       "2   EBE(retraité des loyers de leasing) 16          10.022340       0.0\n",
       "3   EBE(retraité des loyers de leasing) 15           7.745331       0.0\n",
       "4      Capacité de remboursement (FCCR) 16           5.018214       0.0\n",
       "5                                Risque__B           4.757395       0.0\n",
       "6                               Risque__B+           3.853281       0.0\n",
       "7                                     Mois           3.083171       0.0\n",
       "8                           capital social           2.988120       0.0\n",
       "9                         Fonds Propres 15           2.789371       0.0\n",
       "10                          Total Bilan 15           2.788526       0.0\n",
       "11                               Risque__A           2.787193       0.0"
      ]
     },
     "execution_count": 41,
     "metadata": {},
     "output_type": "execute_result"
    }
   ],
   "source": [
    "from sklearn.feature_selection import f_classif\n",
    "\n",
    "# Getting f_statistic and  p_values\n",
    "F_statistic, p_values = f_classif(X_train, y_train)\n",
    "\n",
    "#Pass the data to a dataframe\n",
    "importance_features = pd.DataFrame(data = {'Feature': X_train.columns.values,'f_statistic_score': F_statistic, \n",
    "                                    'p_values': p_values.round(decimals=6)})\n",
    "\n",
    "#Sort the data by F_score\n",
    "importance_features.sort_values(by = ['f_statistic_score'], ascending = False, ignore_index = True, inplace = True)\n",
    "\n",
    "#We will save the best 12 features into a list\n",
    "top_num_features = importance_features.iloc[:12,0].to_list()\n",
    "\n",
    "#Save the features to remove\n",
    "columns_drop = importance_features.iloc[12:,0].to_list()\n",
    "\n",
    "#We will save in a list the features to remove\n",
    "\n",
    "importance_features[:12]"
   ]
  },
  {
   "cell_type": "markdown",
   "id": "6403e3ca-ee7b-4531-8fc6-720b9c01326e",
   "metadata": {},
   "source": [
    "The dataset is sorted per F_statistics, with the top values being the ones that have a biggest difference in terms of the variance of the features in study.\n",
    "\n",
    "Luckily enough we were able to reject H0, p_values below 0.05, so we are good to advance."
   ]
  },
  {
   "cell_type": "markdown",
   "id": "9018b854-afcf-4a4f-8a20-6d9adc5197ee",
   "metadata": {},
   "source": [
    "### 2.7 Pearson Correlation"
   ]
  },
  {
   "cell_type": "markdown",
   "id": "6d8be645-ae7d-4cf5-91b9-767aba4e1793",
   "metadata": {},
   "source": [
    "As ANOVA don't address the relationship degree between two variables. We will now, test for the correlation between variables, if we found features with a correlation superior to abs(P), we will drop it.\n",
    "\n",
    "We will do this to not repeat information regarding our features and keep with the minimum features possible."
   ]
  },
  {
   "cell_type": "code",
   "execution_count": 42,
   "id": "2296d690-39ca-4260-8bb1-5fb2920cc3bf",
   "metadata": {
    "tags": []
   },
   "outputs": [
    {
     "data": {
      "image/png": "[encoded data removed]",
      "text/plain": [
       "<Figure size 720x720 with 2 Axes>"
      ]
     },
     "metadata": {},
     "output_type": "display_data"
    }
   ],
   "source": [
    "#Plot the pearson correlation to verify relationships\n",
    "corrmat = X_train[top_num_features].corr()\n",
    "plt.figure(figsize=(10,10))\n",
    "sns.heatmap(corrmat, annot = True)\n",
    "plt.show()"
   ]
  },
  {
   "cell_type": "markdown",
   "id": "e8fc1097-0728-4986-b5ad-de895b505285",
   "metadata": {},
   "source": [
    "Both 'Fonds Propres 15', 'Total Bilan 15' have a strong relationship with each other and with Chiffre d'Affairs, so we will drop these two.\n",
    "\n",
    "Let's to finalize drop the not chosen features by ANOVA."
   ]
  },
  {
   "cell_type": "code",
   "execution_count": 43,
   "id": "f32bb551-387d-4045-909d-6769162280e7",
   "metadata": {},
   "outputs": [],
   "source": [
    "#Select columns to drop after correlation\n",
    "columns_drop = ['Fonds Propres 15', 'Total Bilan 15']\n",
    "\n",
    "#Extend the list with the columns that were not selected in Anova Model\n",
    "columns_drop.extend(importance_features.iloc[15:,0].to_list())\n",
    "\n",
    "#Extend the list with the columns that were not selected in Anova Model\n",
    "def col_to_drop(df, columns_list):\n",
    "    df.drop(columns = columns_list, inplace = True)\n",
    "    \n",
    "# apply to X_train\n",
    "col_to_drop(X_train, columns_drop)\n",
    "\n",
    "# apply to X_test\n",
    "col_to_drop(X_test, columns_drop)"
   ]
  },
  {
   "cell_type": "markdown",
   "id": "025aecae-b691-4002-9b74-5c260aad635c",
   "metadata": {
    "jp-MarkdownHeadingCollapsed": true,
    "tags": []
   },
   "source": [
    "## Chapter 3. - Modelling"
   ]
  },
  {
   "cell_type": "code",
   "execution_count": 44,
   "id": "354ca3ed-b659-4a93-a0f9-352980b0bcd8",
   "metadata": {},
   "outputs": [],
   "source": [
    "from sklearn.ensemble import RandomForestRegressor\n",
    "from sklearn.tree import DecisionTreeRegressor\n",
    "from sklearn.linear_model import SGDRegressor, Lasso, Ridge, LinearRegression\n",
    "from sklearn.metrics import mean_squared_error, r2_score\n",
    "from sklearn.model_selection import KFold, cross_validate, cross_val_score, cross_val_predict"
   ]
  },
  {
   "cell_type": "markdown",
   "id": "5560bbc4-b688-46b5-be84-e0711a82f03d",
   "metadata": {},
   "source": [
    "First thing to do is to standardize our data, we have very different magnitudes in our features.\n",
    "\n",
    "Fit and transform the X_train, just transform the X_test, to not introduce bias into our model."
   ]
  },
  {
   "cell_type": "markdown",
   "id": "27f0454b-f66d-4e73-9b1f-0231898a59e3",
   "metadata": {},
   "source": [
    "### 3.1 - Feature Standardization"
   ]
  },
  {
   "cell_type": "code",
   "execution_count": 45,
   "id": "fbec2ebc-7861-4ad6-ad53-e5d3b0ef52a5",
   "metadata": {},
   "outputs": [],
   "source": [
    "from sklearn.preprocessing import StandardScaler\n",
    "scaler = StandardScaler()\n",
    "X_train_scaled = pd.DataFrame(scaler.fit_transform(X_train),columns=X_train.columns)\n",
    "X_test_scaled = pd.DataFrame(scaler.transform(X_test),columns=X_test.columns)"
   ]
  },
  {
   "cell_type": "markdown",
   "id": "5255dcd4-da47-4796-a25d-d0b063aea998",
   "metadata": {},
   "source": [
    "We will analyse 5 different models into our dataset, XGB (one of the most known) will not be tested because we have a small number of features and this will not be able to generalize well, we will focus in the simpler models.\n",
    "\n",
    "Cross validation will be used to allow the resampling of 5 folds of different segments and prevent, yet again, overfitting.\n",
    "\n",
    "We will evaluate both RMSE (root mean squared error) & R2 (goodness of fit). Both this metrics are the standard to evaluate any linear regression problems, while RMSE is a difference squared of the predicted value to the actual one, R2 will allows to understand how much part of the model can be explained by our features."
   ]
  },
  {
   "cell_type": "markdown",
   "id": "aa3b36f7-6724-40c7-aaac-7a067b73a8ae",
   "metadata": {},
   "source": [
    "### 3.2 - Feature Standardization"
   ]
  },
  {
   "cell_type": "code",
   "execution_count": 46,
   "id": "a2d65e1d-3966-482a-8733-dfdac43bc6fb",
   "metadata": {},
   "outputs": [
    {
     "data": {
      "text/html": [
       "<div>\n",
       "<style scoped>\n",
       "    .dataframe tbody tr th:only-of-type {\n",
       "        vertical-align: middle;\n",
       "    }\n",
       "\n",
       "    .dataframe tbody tr th {\n",
       "        vertical-align: top;\n",
       "    }\n",
       "\n",
       "    .dataframe thead th {\n",
       "        text-align: right;\n",
       "    }\n",
       "</style>\n",
       "<table border=\"1\" class=\"dataframe\">\n",
       "  <thead>\n",
       "    <tr style=\"text-align: right;\">\n",
       "      <th></th>\n",
       "      <th>RForestRegressor</th>\n",
       "      <th>DTreeRegressor</th>\n",
       "      <th>SGD</th>\n",
       "      <th>Lasso</th>\n",
       "      <th>Ridge</th>\n",
       "    </tr>\n",
       "  </thead>\n",
       "  <tbody>\n",
       "    <tr>\n",
       "      <th>R*2</th>\n",
       "      <td>0.764520</td>\n",
       "      <td>0.572674</td>\n",
       "      <td>0.754587</td>\n",
       "      <td>-0.007186</td>\n",
       "      <td>0.742083</td>\n",
       "    </tr>\n",
       "    <tr>\n",
       "      <th>RMSE_mean</th>\n",
       "      <td>0.006278</td>\n",
       "      <td>0.008453</td>\n",
       "      <td>0.006398</td>\n",
       "      <td>0.012997</td>\n",
       "      <td>0.006556</td>\n",
       "    </tr>\n",
       "    <tr>\n",
       "      <th>RMSE_standard_deviation</th>\n",
       "      <td>0.000411</td>\n",
       "      <td>0.000368</td>\n",
       "      <td>0.000390</td>\n",
       "      <td>0.000373</td>\n",
       "      <td>0.000310</td>\n",
       "    </tr>\n",
       "  </tbody>\n",
       "</table>\n",
       "</div>"
      ],
      "text/plain": [
       "                         RForestRegressor  DTreeRegressor       SGD     Lasso  \\\n",
       "R*2                              0.764520        0.572674  0.754587 -0.007186   \n",
       "RMSE_mean                        0.006278        0.008453  0.006398  0.012997   \n",
       "RMSE_standard_deviation          0.000411        0.000368  0.000390  0.000373   \n",
       "\n",
       "                            Ridge  \n",
       "R*2                      0.742083  \n",
       "RMSE_mean                0.006556  \n",
       "RMSE_standard_deviation  0.000310  "
      ]
     },
     "execution_count": 46,
     "metadata": {},
     "output_type": "execute_result"
    }
   ],
   "source": [
    "'''Models'''\n",
    "\n",
    "#Definition of models to test\n",
    "models = [\n",
    "          ('RForestRegressor', RandomForestRegressor(random_state = 42)), \n",
    "          ('DTreeRegressor', DecisionTreeRegressor(random_state = 42)),\n",
    "          ('SGD', SGDRegressor(random_state = 42)),\n",
    "          ('Lasso', Lasso(random_state = 42)), \n",
    "          ('Ridge', Ridge(random_state = 42)),\n",
    "        ]\n",
    "\n",
    "'''Accuracy'''\n",
    "\n",
    "#Metrics to evaluate\n",
    "scoring_metrics = ['neg_mean_squared_error','r2']\n",
    "\n",
    "#Initialize a dataframe to append the RMSE, R*2 and STD for each model RMSE\n",
    "dict_metrics = pd.DataFrame(index = ['R*2','RMSE_mean','RMSE_standard_deviation'])\n",
    "\n",
    "#Cross validation will be use with kfold to divide the train datasets into different folds\n",
    "for model_name, model in models:\n",
    "    #Initiate KFold\n",
    "    kfold = KFold(n_splits = 5, shuffle = True, random_state = 42)\n",
    "    \n",
    "    #Perform a cross validate\n",
    "    cv_scores = cross_validate(model, X_train_scaled, y_train, cv = kfold, scoring = scoring_metrics)\n",
    "    \n",
    "    #Calculate the RMSE - Root Mean Square Deviation\n",
    "    model_rmse = np.sqrt(-cv_scores['test_neg_mean_squared_error'])\n",
    "    \n",
    "    dict_metrics[model_name] = [np.mean(cv_scores['test_r2']), np.mean(model_rmse), np.std(model_rmse)]\n",
    "\n",
    "dict_metrics"
   ]
  },
  {
   "cell_type": "markdown",
   "id": "f38d7c2f-8a2e-4855-b52f-f64b524af296",
   "metadata": {},
   "source": [
    "RForest Regressor, SGD & Ridge presented a good R2 and RMSE, with a goodness of fit greater than 0.7.\n",
    "\n",
    "RMSE for the three models is not perfect, however an error of around 0.6% for a mean interest loan value of 6.1% is not bad either.\n",
    "\n",
    "So we will accept, and follow with the hyperparameter for SGD Regressor."
   ]
  },
  {
   "cell_type": "markdown",
   "id": "629769c2-39b9-4d21-88dd-ce7b1aac88de",
   "metadata": {},
   "source": [
    "### 3.3 - SGDRegressor - Hyperparameter Tuning"
   ]
  },
  {
   "cell_type": "markdown",
   "id": "354a2b9a-2bd6-4b32-b82c-86aa9aa26fb1",
   "metadata": {},
   "source": [
    "First thing we will initiate a dataset to append the results from our Train and Test sets."
   ]
  },
  {
   "cell_type": "code",
   "execution_count": 47,
   "id": "71c2416a-1236-41af-8a54-cea11fc11139",
   "metadata": {},
   "outputs": [],
   "source": [
    "sgd_metrics = pd.DataFrame(index = ['R*2', 'RMSE_mean'])"
   ]
  },
  {
   "cell_type": "code",
   "execution_count": 48,
   "id": "b8f09c2c-5453-4de0-b234-66ad5b8be9af",
   "metadata": {},
   "outputs": [
    {
     "data": {
      "text/html": [
       "<div>\n",
       "<style scoped>\n",
       "    .dataframe tbody tr th:only-of-type {\n",
       "        vertical-align: middle;\n",
       "    }\n",
       "\n",
       "    .dataframe tbody tr th {\n",
       "        vertical-align: top;\n",
       "    }\n",
       "\n",
       "    .dataframe thead th {\n",
       "        text-align: right;\n",
       "    }\n",
       "</style>\n",
       "<table border=\"1\" class=\"dataframe\">\n",
       "  <thead>\n",
       "    <tr style=\"text-align: right;\">\n",
       "      <th></th>\n",
       "      <th>RFRegressor - Test</th>\n",
       "      <th>RFRegressor - Train</th>\n",
       "    </tr>\n",
       "  </thead>\n",
       "  <tbody>\n",
       "    <tr>\n",
       "      <th>R*2</th>\n",
       "      <td>0.82104</td>\n",
       "      <td>0.764520</td>\n",
       "    </tr>\n",
       "    <tr>\n",
       "      <th>RMSE_mean</th>\n",
       "      <td>0.00580</td>\n",
       "      <td>0.006278</td>\n",
       "    </tr>\n",
       "  </tbody>\n",
       "</table>\n",
       "</div>"
      ],
      "text/plain": [
       "           RFRegressor - Test  RFRegressor - Train\n",
       "R*2                   0.82104             0.764520\n",
       "RMSE_mean             0.00580             0.006278"
      ]
     },
     "execution_count": 48,
     "metadata": {},
     "output_type": "execute_result"
    }
   ],
   "source": [
    "from sklearn.model_selection import RandomizedSearchCV, GridSearchCV\n",
    "\n",
    "sgd_reg = SGDRegressor(max_iter=100000, random_state = 42)\n",
    "\n",
    "param_grid = [{'loss' : ['squared_error', 'huber', 'epsilon_insensitive'],\n",
    "                'penalty' : ['l1', 'l2', 'elasticnet'],\n",
    "                'alpha' : [0.0001, 0.001, 0.01, 0.1, 1, 10, 100, 1000],\n",
    "                'learning_rate' : ['constant', 'optimal', 'invscaling', 'adaptive']}\n",
    "             ]\n",
    "              \n",
    "gridcv_search = GridSearchCV(sgd_reg,param_grid, cv=5, scoring = 'neg_mean_squared_error', return_train_score=True)\n",
    "\n",
    "gridcv_search.fit(X_train_scaled, y_train)\n",
    "\n",
    "y_pred = gridcv_search.predict(X_test_scaled)\n",
    "\n",
    "test_rmse = np.sqrt(mean_squared_error(y_test, y_pred))\n",
    "\n",
    "test_r2 = r2_score(y_test, y_pred)\n",
    "sgd_metrics['RFRegressor - Test'] = [ np.round(test_r2,5), np.round(test_rmse,5)]\n",
    "sgd_metrics['RFRegressor - Train'] = dict_metrics['RForestRegressor'].iloc[0:2]\n",
    "sgd_metrics"
   ]
  },
  {
   "cell_type": "markdown",
   "id": "48dc8fa6-a4d6-4ad8-b664-0a40f1bfd57f",
   "metadata": {},
   "source": [
    "We were able to achieve an optimization of the model, and the results obtain don't suggest an overfitting. Model is accepted.\n",
    "\n",
    "Below we can find the best estimator for our model."
   ]
  },
  {
   "cell_type": "code",
   "execution_count": 49,
   "id": "c44700ca-2f27-44b2-9a9d-b531531a4318",
   "metadata": {},
   "outputs": [
    {
     "data": {
      "text/plain": [
       "SGDRegressor(alpha=0.001, learning_rate='adaptive', loss='huber',\n",
       "             max_iter=100000, penalty='elasticnet', random_state=42)"
      ]
     },
     "execution_count": 49,
     "metadata": {},
     "output_type": "execute_result"
    }
   ],
   "source": [
    "gridcv_search.best_estimator_"
   ]
  },
  {
   "cell_type": "markdown",
   "id": "58c3efbe-8935-4cc3-9048-50357f5ce5e4",
   "metadata": {},
   "source": [
    "### 3.3 - Predictions Evaluation"
   ]
  },
  {
   "cell_type": "markdown",
   "id": "765763e3-2e8f-4754-b600-478afdb68eb0",
   "metadata": {},
   "source": [
    "#### 3.3.1 - Coefficients"
   ]
  },
  {
   "cell_type": "markdown",
   "id": "bcfc35b2-0f3c-4f1e-88d5-3a50073b9c7a",
   "metadata": {},
   "source": [
    "Let's verify which contribute features contribute the most for the outcome of the model."
   ]
  },
  {
   "cell_type": "code",
   "execution_count": 50,
   "id": "b9847c5a-d5a0-433f-ab5a-44d7deb155d4",
   "metadata": {},
   "outputs": [
    {
     "data": {
      "text/plain": [
       "array([ 0.00496145,  0.        ,  0.        ,  0.00031518,  0.        ,\n",
       "        0.        ,  0.        ,  0.        , -0.00321543, -0.00400843,\n",
       "        0.        , -0.00297201,  0.00714259])"
      ]
     },
     "execution_count": 50,
     "metadata": {},
     "output_type": "execute_result"
    }
   ],
   "source": [
    "gridcv_search.best_estimator_.coef_"
   ]
  },
  {
   "cell_type": "code",
   "execution_count": 51,
   "id": "ee9b522b-a1de-4da5-914b-c0de421098f8",
   "metadata": {
    "tags": []
   },
   "outputs": [
    {
     "data": {
      "text/html": [
       "<div>\n",
       "<style scoped>\n",
       "    .dataframe tbody tr th:only-of-type {\n",
       "        vertical-align: middle;\n",
       "    }\n",
       "\n",
       "    .dataframe tbody tr th {\n",
       "        vertical-align: top;\n",
       "    }\n",
       "\n",
       "    .dataframe thead th {\n",
       "        text-align: right;\n",
       "    }\n",
       "</style>\n",
       "<table border=\"1\" class=\"dataframe\">\n",
       "  <thead>\n",
       "    <tr style=\"text-align: right;\">\n",
       "      <th></th>\n",
       "      <th>Coefficients</th>\n",
       "    </tr>\n",
       "  </thead>\n",
       "  <tbody>\n",
       "    <tr>\n",
       "      <th>Risque__A+</th>\n",
       "      <td>-0.004008</td>\n",
       "    </tr>\n",
       "    <tr>\n",
       "      <th>Risque__A</th>\n",
       "      <td>-0.003215</td>\n",
       "    </tr>\n",
       "    <tr>\n",
       "      <th>Risque__B+</th>\n",
       "      <td>-0.002972</td>\n",
       "    </tr>\n",
       "    <tr>\n",
       "      <th>capital social</th>\n",
       "      <td>0.000000</td>\n",
       "    </tr>\n",
       "    <tr>\n",
       "      <th>Chiffre d'Affaires 15</th>\n",
       "      <td>0.000000</td>\n",
       "    </tr>\n",
       "    <tr>\n",
       "      <th>EBE(retraité des loyers de leasing) 16</th>\n",
       "      <td>0.000000</td>\n",
       "    </tr>\n",
       "    <tr>\n",
       "      <th>Capacité de remboursement (FCCR) 15</th>\n",
       "      <td>0.000000</td>\n",
       "    </tr>\n",
       "    <tr>\n",
       "      <th>Capacité de remboursement (FCCR) 16</th>\n",
       "      <td>0.000000</td>\n",
       "    </tr>\n",
       "    <tr>\n",
       "      <th>Fonds Propres 16</th>\n",
       "      <td>0.000000</td>\n",
       "    </tr>\n",
       "    <tr>\n",
       "      <th>Risque__B</th>\n",
       "      <td>0.000000</td>\n",
       "    </tr>\n",
       "    <tr>\n",
       "      <th>EBE(retraité des loyers de leasing) 15</th>\n",
       "      <td>0.000315</td>\n",
       "    </tr>\n",
       "    <tr>\n",
       "      <th>Mois</th>\n",
       "      <td>0.004961</td>\n",
       "    </tr>\n",
       "    <tr>\n",
       "      <th>Risque__C</th>\n",
       "      <td>0.007143</td>\n",
       "    </tr>\n",
       "  </tbody>\n",
       "</table>\n",
       "</div>"
      ],
      "text/plain": [
       "                                        Coefficients\n",
       "Risque__A+                                 -0.004008\n",
       "Risque__A                                  -0.003215\n",
       "Risque__B+                                 -0.002972\n",
       "capital social                              0.000000\n",
       "Chiffre d'Affaires 15                       0.000000\n",
       "EBE(retraité des loyers de leasing) 16      0.000000\n",
       "Capacité de remboursement (FCCR) 15         0.000000\n",
       "Capacité de remboursement (FCCR) 16         0.000000\n",
       "Fonds Propres 16                            0.000000\n",
       "Risque__B                                   0.000000\n",
       "EBE(retraité des loyers de leasing) 15      0.000315\n",
       "Mois                                        0.004961\n",
       "Risque__C                                   0.007143"
      ]
     },
     "execution_count": 51,
     "metadata": {},
     "output_type": "execute_result"
    }
   ],
   "source": [
    "model_coeff = pd.DataFrame(index = X_test.columns, data = gridcv_search.best_estimator_.coef_, columns = ['Coefficients'])\n",
    "model_coeff.sort_values(by = 'Coefficients')"
   ]
  },
  {
   "cell_type": "markdown",
   "id": "21eb10cb-95fc-4cd0-ab96-5a5b76b78f72",
   "metadata": {},
   "source": [
    "We can conclude that Risque_C and Mois were the features that impact positively the model, meaning that higher this two values are higher the interest rates. At the other hand, Risque A+,A,B+ and effectifs are the top features that impact negatively the interest rates, allowing a lower interes rates."
   ]
  },
  {
   "cell_type": "markdown",
   "id": "32fccb6b-01fb-452d-bfae-b7a7c592be28",
   "metadata": {},
   "source": [
    "#### 3.3.2 - Predictions"
   ]
  },
  {
   "cell_type": "markdown",
   "id": "6427518b-a482-447d-9600-53bd537b69ad",
   "metadata": {},
   "source": [
    "To end this subchapter we will conclude about the top and worst predictions made by our model."
   ]
  },
  {
   "cell_type": "markdown",
   "id": "2b0ae89f-3808-4f99-b871-47cc6a8825a9",
   "metadata": {},
   "source": [
    "##### 3.3.2 - Top Predictions"
   ]
  },
  {
   "cell_type": "code",
   "execution_count": 52,
   "id": "ad1fc754-f51b-4b87-9d5e-9e3d15ad7024",
   "metadata": {
    "tags": []
   },
   "outputs": [
    {
     "data": {
      "text/html": [
       "<div>\n",
       "<style scoped>\n",
       "    .dataframe tbody tr th:only-of-type {\n",
       "        vertical-align: middle;\n",
       "    }\n",
       "\n",
       "    .dataframe tbody tr th {\n",
       "        vertical-align: top;\n",
       "    }\n",
       "\n",
       "    .dataframe thead th {\n",
       "        text-align: right;\n",
       "    }\n",
       "</style>\n",
       "<table border=\"1\" class=\"dataframe\">\n",
       "  <thead>\n",
       "    <tr style=\"text-align: right;\">\n",
       "      <th></th>\n",
       "      <th>y_difference</th>\n",
       "      <th>y_real</th>\n",
       "      <th>y_pred</th>\n",
       "      <th>Mois</th>\n",
       "      <th>capital social</th>\n",
       "      <th>Chiffre d'Affaires 15</th>\n",
       "      <th>EBE(retraité des loyers de leasing) 15</th>\n",
       "      <th>EBE(retraité des loyers de leasing) 16</th>\n",
       "      <th>Capacité de remboursement (FCCR) 15</th>\n",
       "      <th>Capacité de remboursement (FCCR) 16</th>\n",
       "      <th>Fonds Propres 16</th>\n",
       "      <th>Risque__A</th>\n",
       "      <th>Risque__A+</th>\n",
       "      <th>Risque__B</th>\n",
       "      <th>Risque__B+</th>\n",
       "      <th>Risque__C</th>\n",
       "    </tr>\n",
       "  </thead>\n",
       "  <tbody>\n",
       "    <tr>\n",
       "      <th>79</th>\n",
       "      <td>0.000053</td>\n",
       "      <td>0.0570</td>\n",
       "      <td>0.056947</td>\n",
       "      <td>1.0</td>\n",
       "      <td>3000000.0</td>\n",
       "      <td>61034.000000</td>\n",
       "      <td>5.000000</td>\n",
       "      <td>5.000000</td>\n",
       "      <td>1.030000</td>\n",
       "      <td>1.130000</td>\n",
       "      <td>5320.000000</td>\n",
       "      <td>0.0</td>\n",
       "      <td>0.0</td>\n",
       "      <td>1.0</td>\n",
       "      <td>0.0</td>\n",
       "      <td>0.0</td>\n",
       "    </tr>\n",
       "    <tr>\n",
       "      <th>66</th>\n",
       "      <td>0.000251</td>\n",
       "      <td>0.0675</td>\n",
       "      <td>0.067751</td>\n",
       "      <td>3.0</td>\n",
       "      <td>3557120.0</td>\n",
       "      <td>6946.000000</td>\n",
       "      <td>3169.000000</td>\n",
       "      <td>3093.000000</td>\n",
       "      <td>1.220000</td>\n",
       "      <td>1.240000</td>\n",
       "      <td>4069.000000</td>\n",
       "      <td>0.0</td>\n",
       "      <td>0.0</td>\n",
       "      <td>1.0</td>\n",
       "      <td>0.0</td>\n",
       "      <td>0.0</td>\n",
       "    </tr>\n",
       "    <tr>\n",
       "      <th>25</th>\n",
       "      <td>0.000251</td>\n",
       "      <td>0.0485</td>\n",
       "      <td>0.048249</td>\n",
       "      <td>1.0</td>\n",
       "      <td>12000.0</td>\n",
       "      <td>281.000000</td>\n",
       "      <td>20.000000</td>\n",
       "      <td>10.000000</td>\n",
       "      <td>2.180000</td>\n",
       "      <td>1.790000</td>\n",
       "      <td>55.000000</td>\n",
       "      <td>0.0</td>\n",
       "      <td>0.0</td>\n",
       "      <td>0.0</td>\n",
       "      <td>1.0</td>\n",
       "      <td>0.0</td>\n",
       "    </tr>\n",
       "    <tr>\n",
       "      <th>48</th>\n",
       "      <td>0.000287</td>\n",
       "      <td>0.0700</td>\n",
       "      <td>0.069713</td>\n",
       "      <td>0.0</td>\n",
       "      <td>25000.0</td>\n",
       "      <td>1009.859603</td>\n",
       "      <td>69.276463</td>\n",
       "      <td>10.000000</td>\n",
       "      <td>2.855036</td>\n",
       "      <td>43.000000</td>\n",
       "      <td>67.000000</td>\n",
       "      <td>0.0</td>\n",
       "      <td>0.0</td>\n",
       "      <td>0.0</td>\n",
       "      <td>0.0</td>\n",
       "      <td>1.0</td>\n",
       "    </tr>\n",
       "    <tr>\n",
       "      <th>83</th>\n",
       "      <td>0.000323</td>\n",
       "      <td>0.0650</td>\n",
       "      <td>0.065323</td>\n",
       "      <td>3.0</td>\n",
       "      <td>53352.0</td>\n",
       "      <td>13852.761736</td>\n",
       "      <td>11.663353</td>\n",
       "      <td>11.783653</td>\n",
       "      <td>1.518941</td>\n",
       "      <td>1.687525</td>\n",
       "      <td>837.232851</td>\n",
       "      <td>0.0</td>\n",
       "      <td>0.0</td>\n",
       "      <td>1.0</td>\n",
       "      <td>0.0</td>\n",
       "      <td>0.0</td>\n",
       "    </tr>\n",
       "  </tbody>\n",
       "</table>\n",
       "</div>"
      ],
      "text/plain": [
       "    y_difference  y_real    y_pred  Mois  capital social  \\\n",
       "79      0.000053  0.0570  0.056947   1.0       3000000.0   \n",
       "66      0.000251  0.0675  0.067751   3.0       3557120.0   \n",
       "25      0.000251  0.0485  0.048249   1.0         12000.0   \n",
       "48      0.000287  0.0700  0.069713   0.0         25000.0   \n",
       "83      0.000323  0.0650  0.065323   3.0         53352.0   \n",
       "\n",
       "    Chiffre d'Affaires 15  EBE(retraité des loyers de leasing) 15  \\\n",
       "79           61034.000000                                5.000000   \n",
       "66            6946.000000                             3169.000000   \n",
       "25             281.000000                               20.000000   \n",
       "48            1009.859603                               69.276463   \n",
       "83           13852.761736                               11.663353   \n",
       "\n",
       "    EBE(retraité des loyers de leasing) 16  \\\n",
       "79                                5.000000   \n",
       "66                             3093.000000   \n",
       "25                               10.000000   \n",
       "48                               10.000000   \n",
       "83                               11.783653   \n",
       "\n",
       "    Capacité de remboursement (FCCR) 15  Capacité de remboursement (FCCR) 16  \\\n",
       "79                             1.030000                             1.130000   \n",
       "66                             1.220000                             1.240000   \n",
       "25                             2.180000                             1.790000   \n",
       "48                             2.855036                            43.000000   \n",
       "83                             1.518941                             1.687525   \n",
       "\n",
       "    Fonds Propres 16  Risque__A  Risque__A+  Risque__B  Risque__B+  Risque__C  \n",
       "79       5320.000000        0.0         0.0        1.0         0.0        0.0  \n",
       "66       4069.000000        0.0         0.0        1.0         0.0        0.0  \n",
       "25         55.000000        0.0         0.0        0.0         1.0        0.0  \n",
       "48         67.000000        0.0         0.0        0.0         0.0        1.0  \n",
       "83        837.232851        0.0         0.0        1.0         0.0        0.0  "
      ]
     },
     "execution_count": 52,
     "metadata": {},
     "output_type": "execute_result"
    }
   ],
   "source": [
    "predicted_Taux = pd.DataFrame()\n",
    "predicted_Taux['y_difference'] = abs(y_pred-y_test)\n",
    "predicted_Taux['y_real'] = y_test\n",
    "predicted_Taux['y_pred'] = y_pred\n",
    "predicted_Taux = pd.concat([predicted_Taux.reset_index(drop = True), X_test], axis = 1)\n",
    "top_predictions = predicted_Taux.sort_values(by = 'y_difference', ascending = True).head()\n",
    "worst_predictions = predicted_Taux.sort_values(by = 'y_difference', ascending = False).head()\n",
    "top_predictions"
   ]
  },
  {
   "cell_type": "markdown",
   "id": "c667b918-a460-43ea-8a56-2694ada754ae",
   "metadata": {},
   "source": [
    "4 out of 5 top predictions were made when the actual Risque was B, one of the lowest impactful features in our model, suggesting that even when the Risque is not known the model is able to generalize well and predict correctly.\n",
    "\n",
    "The balance given from Mois, effectifs, Chiffre and EBE that are not outliers in our initial dataset, provide sufficient and balanced information. We have a take closer to look to the feature Mois we see that we have the 4 possible classes, Mois has we predict a good predictor for our model.\n",
    "\n",
    "The difference of values from our features in the top predictions makes me believe that more than any feature, only the feature combinations allowed a valid generalization."
   ]
  },
  {
   "cell_type": "markdown",
   "id": "af88eaa3-033f-4564-8dc5-73fb23ae7fcb",
   "metadata": {},
   "source": [
    "##### 3.3.2 - Worst Predictions"
   ]
  },
  {
   "cell_type": "code",
   "execution_count": 53,
   "id": "b7f32c66-ebf6-49aa-863e-d0c339d5094b",
   "metadata": {},
   "outputs": [
    {
     "data": {
      "text/html": [
       "<div>\n",
       "<style scoped>\n",
       "    .dataframe tbody tr th:only-of-type {\n",
       "        vertical-align: middle;\n",
       "    }\n",
       "\n",
       "    .dataframe tbody tr th {\n",
       "        vertical-align: top;\n",
       "    }\n",
       "\n",
       "    .dataframe thead th {\n",
       "        text-align: right;\n",
       "    }\n",
       "</style>\n",
       "<table border=\"1\" class=\"dataframe\">\n",
       "  <thead>\n",
       "    <tr style=\"text-align: right;\">\n",
       "      <th></th>\n",
       "      <th>y_difference</th>\n",
       "      <th>y_real</th>\n",
       "      <th>y_pred</th>\n",
       "      <th>Mois</th>\n",
       "      <th>capital social</th>\n",
       "      <th>Chiffre d'Affaires 15</th>\n",
       "      <th>EBE(retraité des loyers de leasing) 15</th>\n",
       "      <th>EBE(retraité des loyers de leasing) 16</th>\n",
       "      <th>Capacité de remboursement (FCCR) 15</th>\n",
       "      <th>Capacité de remboursement (FCCR) 16</th>\n",
       "      <th>Fonds Propres 16</th>\n",
       "      <th>Risque__A</th>\n",
       "      <th>Risque__A+</th>\n",
       "      <th>Risque__B</th>\n",
       "      <th>Risque__B+</th>\n",
       "      <th>Risque__C</th>\n",
       "    </tr>\n",
       "  </thead>\n",
       "  <tbody>\n",
       "    <tr>\n",
       "      <th>9</th>\n",
       "      <td>0.017724</td>\n",
       "      <td>0.0485</td>\n",
       "      <td>0.030776</td>\n",
       "      <td>1.0</td>\n",
       "      <td>50000000.0</td>\n",
       "      <td>3656.521731</td>\n",
       "      <td>286.198101</td>\n",
       "      <td>25.0</td>\n",
       "      <td>84.922998</td>\n",
       "      <td>20.04863</td>\n",
       "      <td>1479.424781</td>\n",
       "      <td>0.0</td>\n",
       "      <td>1.0</td>\n",
       "      <td>0.0</td>\n",
       "      <td>0.0</td>\n",
       "      <td>0.0</td>\n",
       "    </tr>\n",
       "    <tr>\n",
       "      <th>53</th>\n",
       "      <td>0.017687</td>\n",
       "      <td>0.0620</td>\n",
       "      <td>0.044313</td>\n",
       "      <td>0.0</td>\n",
       "      <td>527000.0</td>\n",
       "      <td>32641.599699</td>\n",
       "      <td>345.255512</td>\n",
       "      <td>15.0</td>\n",
       "      <td>3.604876</td>\n",
       "      <td>5.08000</td>\n",
       "      <td>1270.000000</td>\n",
       "      <td>0.0</td>\n",
       "      <td>0.0</td>\n",
       "      <td>0.0</td>\n",
       "      <td>1.0</td>\n",
       "      <td>0.0</td>\n",
       "    </tr>\n",
       "    <tr>\n",
       "      <th>87</th>\n",
       "      <td>0.013901</td>\n",
       "      <td>0.0600</td>\n",
       "      <td>0.073901</td>\n",
       "      <td>1.0</td>\n",
       "      <td>100000.0</td>\n",
       "      <td>1989.159133</td>\n",
       "      <td>71.885340</td>\n",
       "      <td>216.0</td>\n",
       "      <td>3.999768</td>\n",
       "      <td>1.84000</td>\n",
       "      <td>387.000000</td>\n",
       "      <td>0.0</td>\n",
       "      <td>0.0</td>\n",
       "      <td>0.0</td>\n",
       "      <td>0.0</td>\n",
       "      <td>1.0</td>\n",
       "    </tr>\n",
       "    <tr>\n",
       "      <th>103</th>\n",
       "      <td>0.013138</td>\n",
       "      <td>0.0650</td>\n",
       "      <td>0.078138</td>\n",
       "      <td>2.0</td>\n",
       "      <td>30000.0</td>\n",
       "      <td>728.000000</td>\n",
       "      <td>139.288845</td>\n",
       "      <td>204.0</td>\n",
       "      <td>2.070000</td>\n",
       "      <td>2.24000</td>\n",
       "      <td>87.000000</td>\n",
       "      <td>0.0</td>\n",
       "      <td>0.0</td>\n",
       "      <td>0.0</td>\n",
       "      <td>0.0</td>\n",
       "      <td>1.0</td>\n",
       "    </tr>\n",
       "    <tr>\n",
       "      <th>35</th>\n",
       "      <td>0.013069</td>\n",
       "      <td>0.0875</td>\n",
       "      <td>0.074431</td>\n",
       "      <td>1.0</td>\n",
       "      <td>500000.0</td>\n",
       "      <td>2326.000000</td>\n",
       "      <td>762.000000</td>\n",
       "      <td>776.0</td>\n",
       "      <td>1.670000</td>\n",
       "      <td>1.92000</td>\n",
       "      <td>886.000000</td>\n",
       "      <td>0.0</td>\n",
       "      <td>0.0</td>\n",
       "      <td>0.0</td>\n",
       "      <td>0.0</td>\n",
       "      <td>1.0</td>\n",
       "    </tr>\n",
       "  </tbody>\n",
       "</table>\n",
       "</div>"
      ],
      "text/plain": [
       "     y_difference  y_real    y_pred  Mois  capital social  \\\n",
       "9        0.017724  0.0485  0.030776   1.0      50000000.0   \n",
       "53       0.017687  0.0620  0.044313   0.0        527000.0   \n",
       "87       0.013901  0.0600  0.073901   1.0        100000.0   \n",
       "103      0.013138  0.0650  0.078138   2.0         30000.0   \n",
       "35       0.013069  0.0875  0.074431   1.0        500000.0   \n",
       "\n",
       "     Chiffre d'Affaires 15  EBE(retraité des loyers de leasing) 15  \\\n",
       "9              3656.521731                              286.198101   \n",
       "53            32641.599699                              345.255512   \n",
       "87             1989.159133                               71.885340   \n",
       "103             728.000000                              139.288845   \n",
       "35             2326.000000                              762.000000   \n",
       "\n",
       "     EBE(retraité des loyers de leasing) 16  \\\n",
       "9                                      25.0   \n",
       "53                                     15.0   \n",
       "87                                    216.0   \n",
       "103                                   204.0   \n",
       "35                                    776.0   \n",
       "\n",
       "     Capacité de remboursement (FCCR) 15  Capacité de remboursement (FCCR) 16  \\\n",
       "9                              84.922998                             20.04863   \n",
       "53                              3.604876                              5.08000   \n",
       "87                              3.999768                              1.84000   \n",
       "103                             2.070000                              2.24000   \n",
       "35                              1.670000                              1.92000   \n",
       "\n",
       "     Fonds Propres 16  Risque__A  Risque__A+  Risque__B  Risque__B+  Risque__C  \n",
       "9         1479.424781        0.0         1.0        0.0         0.0        0.0  \n",
       "53        1270.000000        0.0         0.0        0.0         1.0        0.0  \n",
       "87         387.000000        0.0         0.0        0.0         0.0        1.0  \n",
       "103         87.000000        0.0         0.0        0.0         0.0        1.0  \n",
       "35         886.000000        0.0         0.0        0.0         0.0        1.0  "
      ]
     },
     "execution_count": 53,
     "metadata": {},
     "output_type": "execute_result"
    }
   ],
   "source": [
    "worst_predictions"
   ]
  },
  {
   "cell_type": "markdown",
   "id": "d83edf75-84f8-4d82-b7c0-055c2ab665ea",
   "metadata": {},
   "source": [
    "Model was not able to capture the right interest loan rates when they are large, meaning that probably we was not able to capture of the combination between the months that the company has to pay out the loan with invoice and EBE that they have."
   ]
  },
  {
   "cell_type": "markdown",
   "id": "efc1c1f8-308b-4827-ba59-001a9d09e6ec",
   "metadata": {
    "jp-MarkdownHeadingCollapsed": true,
    "tags": []
   },
   "source": [
    "## Chapter 4. - Conclusion & Next Steps"
   ]
  },
  {
   "cell_type": "markdown",
   "id": "573f753d-90c1-4616-b341-0c2b92757cd6",
   "metadata": {},
   "source": [
    "We were able to achieve good results with our model, however I will highlight some aspects of project and propose new things to try and improve,\n",
    "\n",
    "- As we have a small dataset and maybe there are not more available data, a controlled upsampling should be used to increase the number of entries.\n",
    "\n",
    "- Data came with several features as an interval, is impossible to not introduce a lot of Bias treating this. We should be aware that if these are important features, we are biasing the model greatly.\n",
    "\n",
    "- Features should come with a glossary for users and remaining staff know what they are testing, and which are the accurate conclusions to be taken. Outliers treat was impacted by this as it was point out above.\n",
    "\n",
    "- If we are able to increase the number of entries, with new data or upsampling, more complex models can be used and maybe we can achieve even better results.\n",
    "\n",
    "- Outlier treatment impacted the model, I believe that was not that much, however the model should be repeated with a new approach to the outliers management."
   ]
  }
 ],
 "metadata": {
  "kernelspec": {
   "display_name": "Python 3 (ipykernel)",
   "language": "python",
   "name": "python3"
  },
  "language_info": {
   "codemirror_mode": {
    "name": "ipython",
    "version": 3
   },
   "file_extension": ".py",
   "mimetype": "text/x-python",
   "name": "python",
   "nbconvert_exporter": "python",
   "pygments_lexer": "ipython3",
   "version": "3.8.12"
  }
 },
 "nbformat": 4,
 "nbformat_minor": 5
}
